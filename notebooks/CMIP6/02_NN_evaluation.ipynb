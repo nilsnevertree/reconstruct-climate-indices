{
 "cells": [
  {
   "cell_type": "code",
   "execution_count": 3,
   "metadata": {},
   "outputs": [],
   "source": [
    "import numpy as np\n",
    "import xarray as xr\n",
    "from pathlib import Path\n",
    "from os import PathLike\n",
    "from kalman_reconstruction.custom_plot import (\n",
    "    set_custom_rcParams,\n",
    "    plot_colors,\n",
    ")\n",
    "from kalman_reconstruction import pipeline\n",
    "from kalman_reconstruction.statistics import crosscorr\n",
    "import matplotlib.pyplot as plt\n",
    "\n",
    "# from sklearn.linear_model import LinearRegression\n",
    "from typing import Dict\n"
   ]
  },
  {
   "cell_type": "code",
   "execution_count": 4,
   "metadata": {},
   "outputs": [
    {
     "data": {
      "image/png": "[encoded data removed]",
      "text/plain": [
       "<Figure size 500x100 with 1 Axes>"
      ]
     },
     "metadata": {},
     "output_type": "display_data"
    }
   ],
   "source": [
    "# ## LIGHT THEME\n",
    "# plt.style.use(\"seaborn-v0_8-whitegrid\")\n",
    "# dark_color = [0.3, 0.3, 0.3]\n",
    "# light_color = [0.8, 0.8, 0.8]\n",
    "# lightness_0 = 0.75\n",
    "# lightness_1 = 0.5\n",
    "# cmap = \"rocket\"\n",
    "# cmap_r = \"rocket_r\"\n",
    "\n",
    "### DARK THEME\n",
    "plt.style.use(\"dark_background\")\n",
    "dark_color = [0.7, 0.7, 0.7]\n",
    "light_color = [0.2, 0.2, 0.2]\n",
    "lightness_0 = 1.15\n",
    "lightness_1 = 1.5\n",
    "cmap = \"rocket_r\"\n",
    "cmap_r = \"rocket\"\n",
    "\n",
    "\n",
    "colors = set_custom_rcParams()\n",
    "plt.rcParams[\"grid.alpha\"] = 0.5\n",
    "plt.rcParams[\"axes.grid\"] = True\n",
    "\n",
    "plot_colors(colors)\n",
    "\n",
    "variables_color = dict()\n",
    "variables_color[\"NAO_ST\"] = colors[0]\n",
    "variables_color[\"AMO\"] = colors[1]\n",
    "variables_color[\"latent1\"] = colors[2]\n",
    "variables_color[\"latent2\"] = colors[3]\n",
    "variables_color[\"latent3\"] = colors[4]\n",
    "variables_color[\"log_likelihod\"] = colors[-1]"
   ]
  },
  {
   "cell_type": "markdown",
   "metadata": {},
   "source": [
    "### Shuffel the NAO data from the members"
   ]
  },
  {
   "cell_type": "code",
   "execution_count": 5,
   "metadata": {},
   "outputs": [],
   "source": [
    "RepoPath = Path(\".\").resolve().parent.parent\n",
    "DataPath = RepoPath / \"data\" / \"earth_system_models\" / \"CMIP6\" "
   ]
  },
  {
   "cell_type": "markdown",
   "metadata": {},
   "source": [
    "Shuffel indices"
   ]
  },
  {
   "cell_type": "code",
   "execution_count": 113,
   "metadata": {},
   "outputs": [
    {
     "name": "stdout",
     "output_type": "stream",
     "text": [
      "no repetitions found\n",
      "correlation is small\n"
     ]
    }
   ],
   "source": [
    "# ACCESS\n",
    "NAO = xr.open_dataset(DataPath / \"ACCESS\"/ \"NAO_ensemble_norm_ACCESS.nc\")\n",
    "NAO = pipeline.all_dims_as_choords(NAO)\n",
    "members = NAO.member.values\n",
    "members_shuffled = np.zeros_like(members)\n",
    "members_shuffled[0:-1] = members[1:]\n",
    "assert not np.all(members_shuffled == members)\n",
    "print(\"no repetitions found\")\n",
    "\n",
    "NAO_values = NAO.psl.values\n",
    "NAO_values = NAO_values[members_shuffled, :]\n",
    "NAO_shuffled = NAO.copy()\n",
    "NAO_shuffled[\"psl\"] = ((\"member\", \"time\"), NAO_values)\n",
    "\n",
    "corr = crosscorr(NAO.psl, NAO_shuffled.psl, dim=\"time\")\n",
    "assert np.abs(corr.max()) < 0.05\n",
    "print(\"correlation is small\")\n",
    "\n",
    "NAO_shuffled.to_netcdf(DataPath / \"ACCESS\"/ \"NAO_ensemble_norm_ACCESS_shuffled.nc\")"
   ]
  },
  {
   "cell_type": "code",
   "execution_count": 114,
   "metadata": {},
   "outputs": [
    {
     "name": "stdout",
     "output_type": "stream",
     "text": [
      "no repetitions found\n",
      "correlation is small\n"
     ]
    }
   ],
   "source": [
    "# MIROC6\n",
    "NAO = xr.open_dataset(DataPath / \"MIROC6\"/ \"NAO_ensemble_norm_MIROC.nc\")\n",
    "NAO = pipeline.all_dims_as_choords(NAO)\n",
    "members = NAO.member.values\n",
    "members_shuffled = np.zeros_like(members)\n",
    "members_shuffled[0:-1] = members[1:]\n",
    "assert not np.all(members_shuffled == members)\n",
    "print(\"no repetitions found\")\n",
    "\n",
    "NAO_values = NAO.psl.values\n",
    "NAO_values = NAO_values[members_shuffled, :]\n",
    "NAO_shuffled = NAO.copy()\n",
    "NAO_shuffled[\"psl\"] = ((\"member\", \"time\"), NAO_values)\n",
    "\n",
    "corr = crosscorr(NAO.psl, NAO_shuffled.psl, dim=\"time\")\n",
    "assert np.abs(corr.max()) < 0.05\n",
    "print(\"correlation is small\")\n",
    "\n",
    "NAO_shuffled.to_netcdf(DataPath / \"MIROC6\"/ \"NAO_ensemble_norm_MIROC_shuffled.nc\")"
   ]
  },
  {
   "cell_type": "markdown",
   "metadata": {},
   "source": [
    "### Rolling mean of 10 y "
   ]
  },
  {
   "cell_type": "code",
   "execution_count": 37,
   "metadata": {},
   "outputs": [],
   "source": [
    "AMO = xr.open_dataset(DataPath / \"MIROC6\"/ \"AMO_anomalies_MIROC_10yr_roll.nc\")\n",
    "NAO = xr.open_dataset(DataPath / \"MIROC6\"/ \"NAO_ensemble_norm_MIROC.nc\")\n",
    "NAO = NAO.sel(time = AMO.time)\n",
    "AMO = AMO.sel(time = AMO.time)\n",
    "NAO.to_netcdf(DataPath / \"MIROC6\"/ \"NAO_ensemble_norm_MIROC_time_as_10yr_roll.nc\")"
   ]
  },
  {
   "cell_type": "code",
   "execution_count": 36,
   "metadata": {},
   "outputs": [],
   "source": [
    "AMO = xr.open_dataset(DataPath / \"ACCESS\"/ \"AMO_anomalies_ACCESS_10yr_roll.nc\")\n",
    "NAO = xr.open_dataset(DataPath / \"ACCESS\"/ \"NAO_ensemble_norm_ACCESS.nc\")\n",
    "NAO = NAO.sel(time = AMO.time)\n",
    "AMO = AMO.sel(time = AMO.time)\n",
    "NAO.to_netcdf(DataPath / \"ACCESS\"/ \"NAO_ensemble_norm_ACCESS_time_as_10yr_roll.nc\")"
   ]
  }
 ],
 "metadata": {
  "kernelspec": {
   "display_name": "climNum",
   "language": "python",
   "name": "python3"
  },
  "language_info": {
   "codemirror_mode": {
    "name": "ipython",
    "version": 3
   },
   "file_extension": ".py",
   "mimetype": "text/x-python",
   "name": "python",
   "nbconvert_exporter": "python",
   "pygments_lexer": "ipython3",
   "version": "3.10.9"
  }
 },
 "nbformat": 4,
 "nbformat_minor": 2
}
