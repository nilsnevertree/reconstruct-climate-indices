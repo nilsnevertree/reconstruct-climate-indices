{
 "cells": [
  {
   "cell_type": "code",
   "execution_count": null,
   "metadata": {},
   "outputs": [],
   "source": [
    "import numpy as np\n",
    "import pandas as pd\n",
    "import xarray as xr\n",
    "from pathlib import Path\n",
    "from os import PathLike\n",
    "from kalman_reconstruction.custom_plot import (\n",
    "    set_custom_rcParams,\n",
    "    plot_colors,\n",
    "    plot_state_with_probability,\n",
    "    adjust_lightness,\n",
    ")\n",
    "from kalman_reconstruction import pipeline\n",
    "from kalman_reconstruction.statistics import normalize\n",
    "from reconstruct_climate_indices.statistics import xarray_dataset_welch\n",
    "import matplotlib.pyplot as plt\n",
    "import seaborn as sns\n",
    "from matplotlib.figure import Figure\n",
    "\n",
    "# from sklearn.linear_model import LinearRegression\n",
    "from typing import Dict"
   ]
  },
  {
   "cell_type": "code",
   "execution_count": null,
   "metadata": {},
   "outputs": [],
   "source": [
    "# ## LIGHT THEME\n",
    "# plt.style.use(\"seaborn-v0_8-whitegrid\")\n",
    "# dark_color = [0.3, 0.3, 0.3]\n",
    "# light_color = [0.8, 0.8, 0.8]\n",
    "# lightness_0 = 0.75\n",
    "# lightness_1 = 0.5\n",
    "# cmap = \"rocket\"\n",
    "# cmap_r = \"rocket_r\"\n",
    "\n",
    "### DARK THEME\n",
    "plt.style.use(\"dark_background\")\n",
    "dark_color = [0.7, 0.7, 0.7]\n",
    "light_color = [0.2, 0.2, 0.2]\n",
    "lightness_0 = 1.15\n",
    "lightness_1 = 1.5\n",
    "cmap = \"rocket_r\"\n",
    "cmap_r = \"rocket\"\n",
    "\n",
    "\n",
    "colors = set_custom_rcParams()\n",
    "plt.rcParams[\"grid.alpha\"] = 0.5\n",
    "plt.rcParams[\"axes.grid\"] = True\n",
    "\n",
    "plot_colors(colors)\n",
    "\n",
    "variables_color = dict()\n",
    "variables_color[\"NAO_ST\"] = colors[0]\n",
    "variables_color[\"AMO\"] = colors[2]\n",
    "variables_color[\"latent\"] = colors[1]\n",
    "variables_color[\"latent_2\"] = colors[4]\n",
    "variables_color[\"log_likelihod\"] = colors[-1]"
   ]
  },
  {
   "cell_type": "code",
   "execution_count": null,
   "metadata": {},
   "outputs": [],
   "source": [
    "REPO_PATH = Path(\".\").resolve().parent.parent\n",
    "results_path = REPO_PATH / Path(\"results\") / \"earth_system_models\" / \"CMIP6\" / \"MIROC6\"\n",
    "results_path.mkdir(parents=True, exist_ok=True)\n",
    "SAVE_FIGURES = True\n",
    "\n",
    "\n",
    "def save_fig(fig: Figure, relative_path: PathLike, kwargs: Dict = dict()):\n",
    "    store_path = results_path / relative_path\n",
    "    store_path.parent.mkdir(parents=True, exist_ok=True)\n",
    "    if SAVE_FIGURES:\n",
    "        fig.savefig(store_path, **kwargs)\n",
    "    else:\n",
    "        pass"
   ]
  },
  {
   "cell_type": "code",
   "execution_count": null,
   "metadata": {},
   "outputs": [],
   "source": [
    "DATA_PATH = REPO_PATH / \"data\" / \"earth_system_models\" / \"cmip6\" / \"miroc6\"\n",
    "AMO = xr.open_dataset(DATA_PATH / \"AMO_anomalies_MIROC.nc\")\n",
    "NAO = xr.open_dataset(DATA_PATH / \"NAO_ensemble_norm_MIROC.nc\")\n",
    "AMO"
   ]
  },
  {
   "cell_type": "code",
   "execution_count": null,
   "metadata": {},
   "outputs": [],
   "source": [
    "AMO = AMO.rename(dict(tos=\"AMO\"))\n",
    "NAO = NAO.rename(dict(psl=\"NAO_ST\"))\n",
    "\n",
    "miroc6 = xr.merge([AMO, NAO])\n",
    "miroc6 = miroc6.assign_coords(member=miroc6.member)\n",
    "# rng = np.random.default_rng(seed = 12347654)\n",
    "# pipeline.add_random_variable(\n",
    "#     ds = miroc6,\n",
    "#     var_name = \"latent\",\n",
    "#     random_generator= rng,\n",
    "#     variance=1,\n",
    "#     dim = \"time\"\n",
    "# )\n",
    "\n",
    "state_variables = list(miroc6.data_vars)[::-1]  # use reverse order\n",
    "\n",
    "number_latent = 3\n",
    "seed = 12347653\n",
    "for i in range(1, number_latent + 1):\n",
    "    rng2 = np.random.default_rng(seed=seed + i)\n",
    "    pipeline.add_random_variable(\n",
    "        ds=miroc6, random_generator=rng2, var_name=f\"latent{i}\", variance=1, dim=\"time\"\n",
    "    )\n",
    "\n",
    "state_variables += [f\"latent{i}\" for i in range(1, number_latent + 1)]\n",
    "state_variables"
   ]
  },
  {
   "cell_type": "markdown",
   "metadata": {},
   "source": [
    "### Run Kalman-SEM OR load dataset"
   ]
  },
  {
   "cell_type": "code",
   "execution_count": null,
   "metadata": {},
   "outputs": [],
   "source": [
    "# subdataset_selections = [\n",
    "#     dict(member = idx) for idx in miroc6.member.values\n",
    "# ]\n",
    "# kalman_full_miroc6 = pipeline.run_function_on_multiple_subdatasets(\n",
    "#     processing_function=pipeline.xarray_Kalman_SEM,\n",
    "#     parent_dataset=miroc6,\n",
    "#     subdataset_selections=subdataset_selections,\n",
    "#     func_kwargs= dict(\n",
    "#         observation_variables=[\"AMO\", \"NAO_ST\"],\n",
    "#         state_variables=state_variables,\n",
    "#         nb_iter_SEM=50\n",
    "#     )\n",
    "# )\n",
    "\n",
    "kalman_result = xr.open_dataset(\n",
    "    REPO_PATH\n",
    "    / \"data/earth_system_models/processed/thoughtful-finch-610/thoughtful-finch-610_kalman.nc\"\n",
    ")\n",
    "kalman_states = pipeline.from_standard_dataset(kalman_result, var_name=\"states\")"
   ]
  },
  {
   "cell_type": "markdown",
   "metadata": {},
   "source": [
    "#### Create test sinus signal for frequency analysis"
   ]
  },
  {
   "cell_type": "code",
   "execution_count": null,
   "metadata": {},
   "outputs": [],
   "source": [
    "# create a test sinus to check the frequency is calculated correct\n",
    "period_in_years = 6\n",
    "period = period_in_years * pd.Timedelta(value=365.25, unit=\"days\") / (2 * np.pi)\n",
    "td = miroc6.time - miroc6.time[0].values\n",
    "sinus = np.sin(td / period)\n",
    "\n",
    "miroc6[\"sinus\"] = sinus\n",
    "miroc6[\"sinus\"].plot()\n",
    "np.isnan(miroc6[\"sinus\"]).sum()\n",
    "# plt.xlim(\n",
    "#     miroc6.time[0],\n",
    "#     miroc6.time[12*10]\n",
    "#     )"
   ]
  },
  {
   "cell_type": "markdown",
   "metadata": {},
   "source": [
    "### Analysis"
   ]
  },
  {
   "cell_type": "markdown",
   "metadata": {},
   "source": [
    "#### Prepare Fourier analysis\n",
    "\n",
    "**Note: The signal is not evenly spaced!**\n",
    "**Imporovement needs to be done**"
   ]
  },
  {
   "cell_type": "code",
   "execution_count": null,
   "metadata": {},
   "outputs": [],
   "source": [
    "# compute timesteps in days\n",
    "dts = (miroc6.time.shift(time=-1) - miroc6.time.shift(time=0)) / np.timedelta64(1, \"D\")\n",
    "\n",
    "fig, ax = plt.subplots(1, 1)\n",
    "dts.isel(time=slice(0, 5 * 12)).plot(\n",
    "    ax=ax,\n",
    "    linestyle=\"\",\n",
    "    marker=\"o\",\n",
    "    markersize=\"10\",\n",
    ")\n",
    "ax.set_ylabel(\"Time-Step in days\")\n",
    "ax.set_xlabel(\"Date\")\n",
    "save_fig(fig, relative_path=\"Time-Step.png\")\n",
    "save_fig(fig, relative_path=\"Time-Step.svg\")\n",
    "# compute the mean timestep\n",
    "dt_mean = dts.mean()\n",
    "fs = 365.25 / dt_mean\n",
    "fs = fs.values"
   ]
  },
  {
   "cell_type": "code",
   "execution_count": null,
   "metadata": {},
   "outputs": [],
   "source": [
    "welch_kwargs = dict(\n",
    "    fs=fs,\n",
    "    window=\"boxcar\",\n",
    "    nperseg=len(miroc6.time),\n",
    ")\n",
    "\n",
    "miroc6_freq = xarray_dataset_welch(\n",
    "    ds=miroc6,\n",
    "    dim=\"time\",\n",
    "    welch_kwargs=welch_kwargs,\n",
    ")\n",
    "kalman_states_freq = xarray_dataset_welch(\n",
    "    ds=kalman_states,\n",
    "    dim=\"time\",\n",
    "    welch_kwargs=welch_kwargs,\n",
    ")"
   ]
  },
  {
   "cell_type": "code",
   "execution_count": null,
   "metadata": {},
   "outputs": [
    {
     "data": {
      "text/plain": [
       "(1e-08, 316.22776601683796)"
      ]
     },
     "execution_count": null,
     "metadata": {},
     "output_type": "execute_result"
    }
   ],
   "source": [
    "plt.loglog(\n",
    "    miroc6_freq.frequency, miroc6_freq.sinus, linestyle=\"-\", label=\"result of FFT\"\n",
    ")\n",
    "plt.axvline(\n",
    "    1 / period_in_years, color=dark_color, label=\"theoretical value of sine period\"\n",
    ")\n",
    "plt.legend(loc=\"lower left\")\n",
    "plt.ylim(10 ** (-8), 10 ** (2.5))"
   ]
  },
  {
   "cell_type": "markdown",
   "metadata": {},
   "source": [
    "#### Plot loglikelihood"
   ]
  },
  {
   "cell_type": "code",
   "execution_count": null,
   "metadata": {},
   "outputs": [],
   "source": [
    "var = \"log_likelihod\"\n",
    "data = kalman_result[var]\n",
    "data_diff = data - data.isel(kalman_iteration=0)\n",
    "fig, axs = plt.subplots(nrows=1, ncols=2, sharex=True, figsize=(12, 7))\n",
    "\n",
    "plot_state_with_probability(\n",
    "    x_value=data[\"kalman_iteration\"],\n",
    "    state=data.mean(dim=\"member\"),\n",
    "    prob=data.std(dim=\"member\"),\n",
    "    stds=2,\n",
    "    ax=axs[0],\n",
    "    line_kwargs=dict(linewidth=3, zorder=10),\n",
    ")\n",
    "for mem in data.member:\n",
    "    axs[0].plot(\n",
    "        data.kalman_iteration,\n",
    "        data.sel(member=mem),\n",
    "        linestyle=\"-\",\n",
    "        color=adjust_lightness(dark_color, 0.6),\n",
    "        alpha=0.4,\n",
    "        zorder=1,\n",
    "    )\n",
    "\n",
    "for mem in [4, 42]:\n",
    "    axs[0].plot(\n",
    "        data.kalman_iteration,\n",
    "        data.sel(member=mem),\n",
    "        linestyle=\"-\",\n",
    "        color=\"r\",\n",
    "        alpha=1,\n",
    "        zorder=1,\n",
    "    )\n",
    "    axs[0].annotate(\n",
    "        f\"{mem}\",\n",
    "        xy=(data.kalman_iteration[-1], data.sel(member=mem).isel(kalman_iteration=-1)),\n",
    "        color=\"r\",\n",
    "    )\n",
    "\n",
    "\n",
    "plot_state_with_probability(\n",
    "    x_value=data_diff[\"kalman_iteration\"],\n",
    "    state=data_diff.mean(dim=\"member\"),\n",
    "    prob=data_diff.std(dim=\"member\"),\n",
    "    stds=2,\n",
    "    ax=axs[1],\n",
    "    line_kwargs=dict(linewidth=3, zorder=10),\n",
    ")\n",
    "for mem in data_diff.member:\n",
    "    axs[1].plot(\n",
    "        data_diff.kalman_iteration,\n",
    "        data_diff.sel(member=mem),\n",
    "        linestyle=\"-\",\n",
    "        color=adjust_lightness(dark_color, 0.6),\n",
    "        alpha=0.4,\n",
    "        zorder=1,\n",
    "    )\n",
    "    axs[1].annotate(\n",
    "        f\"{mem.values}\",\n",
    "        xy=(\n",
    "            data_diff.kalman_iteration[-1],\n",
    "            data_diff.sel(member=mem).isel(kalman_iteration=-1),\n",
    "        ),\n",
    "    )\n",
    "\n",
    "for mem in [4, 42]:\n",
    "    axs[1].plot(\n",
    "        data_diff.kalman_iteration,\n",
    "        data_diff.sel(member=mem),\n",
    "        linestyle=\"-\",\n",
    "        color=\"r\",\n",
    "        alpha=1,\n",
    "        zorder=1,\n",
    "    )\n",
    "    axs[1].annotate(\n",
    "        f\"{mem}\",\n",
    "        xy=(\n",
    "            data_diff.kalman_iteration[-1],\n",
    "            data_diff.sel(member=mem).isel(kalman_iteration=-1),\n",
    "        ),\n",
    "        color=\"r\",\n",
    "    )\n",
    "\n",
    "axs[0].set_title(\"Log Likelihood\")\n",
    "axs[0].set_ylabel(\"Log Likelihood\")\n",
    "axs[1].set_title(\"Log Likelihood difference to initialization\")\n",
    "axs[1].set_ylabel(\"Log Likelihood difference to initialization\")\n",
    "\n",
    "for ax in axs.flatten():\n",
    "    ax.set_xlabel(\"Kalman iteration\")\n",
    "\n",
    "save_fig(fig, relative_path=\"Loglikelihood.svg\")\n",
    "save_fig(fig, relative_path=\"Loglikelihood.png\", kwargs=dict(dpi=256))"
   ]
  },
  {
   "cell_type": "markdown",
   "metadata": {},
   "source": [
    "#### Plot frequency analysis"
   ]
  },
  {
   "cell_type": "code",
   "execution_count": null,
   "metadata": {},
   "outputs": [],
   "source": [
    "fig, axs = plt.subplots(\n",
    "    nrows=2, ncols=1, sharex=True, sharey=True, figsize=(12, 9), layout=\"constrained\"\n",
    ")\n",
    "\n",
    "for var in [\"AMO\", \"NAO_ST\", \"latent\"]:\n",
    "    data = kalman_states_freq[var]\n",
    "    # for mem in data.member :\n",
    "    #     plt.loglog(data.frequency, data.sel(member = mem),\n",
    "    #                linestyle = \"-\",\n",
    "    #                color = [0.3,0.3,0.3],\n",
    "    #                alpha = 0.1,\n",
    "    #                zorder = 3)\n",
    "    axs[0].loglog(\n",
    "        data.frequency,\n",
    "        data.median(\"member\"),\n",
    "        linestyle=\"-\",\n",
    "        color=variables_color[var],\n",
    "        zorder=5,\n",
    "        label=var,\n",
    "        linewidth=3,\n",
    "    )\n",
    "    axs[0].fill_between(\n",
    "        data.frequency,\n",
    "        data.quantile(q=0.1, dim=\"member\"),\n",
    "        data.quantile(q=0.9, dim=\"member\"),\n",
    "        color=variables_color[var],\n",
    "        alpha=0.3,\n",
    "        zorder=3,\n",
    "    )\n",
    "\n",
    "axs[0].legend(loc=\"lower left\")\n",
    "\n",
    "for var in [\"latent\"]:\n",
    "    data = kalman_states_freq[var]\n",
    "    for mem in data.member:\n",
    "        (indi_lines,) = axs[1].loglog(\n",
    "            data.frequency,\n",
    "            data.sel(member=mem),\n",
    "            linestyle=\"-\",\n",
    "            color=adjust_lightness(dark_color, 0.6),\n",
    "            alpha=0.2,\n",
    "            zorder=1,\n",
    "        )\n",
    "    axs[1].loglog(\n",
    "        data.frequency,\n",
    "        data.median(\"member\"),\n",
    "        linestyle=\"-\",\n",
    "        color=variables_color[var],\n",
    "        zorder=5,\n",
    "        label=var,\n",
    "        linewidth=3,\n",
    "    )\n",
    "    axs[1].fill_between(\n",
    "        data.frequency,\n",
    "        data.quantile(q=0.1, dim=\"member\"),\n",
    "        data.quantile(q=0.9, dim=\"member\"),\n",
    "        color=variables_color[var],\n",
    "        alpha=0.3,\n",
    "        zorder=3,\n",
    "    )\n",
    "var = \"latent\"\n",
    "axs[1].loglog(\n",
    "    miroc6_freq.frequency,\n",
    "    miroc6_freq[var],\n",
    "    linestyle=\"-\",\n",
    "    color=variables_color[\"latent_2\"],\n",
    "    zorder=2,\n",
    "    alpha=0.75,\n",
    "    linewidth=3,\n",
    "    label=f\"{var} init.\",\n",
    ")\n",
    "\n",
    "axs[1].legend(loc=\"lower left\")\n",
    "\n",
    "\n",
    "axs[0].set_title(\"PSD spectra | Median as thick line | 0.1 to 0.9 quantile shaded\")\n",
    "axs[1].set_title(\"As above for latent | Individual members as thin lines\")\n",
    "\n",
    "\n",
    "for ax in axs.flatten():\n",
    "    ax.set_ylim(ymin=10 ** (-5.5), ymax=10 ** (0.5))\n",
    "    ax.set_ylabel(r\"PSD in $V^2 y^{-1}$\")\n",
    "    ax.set_xlabel(r\"Frequency in $y^{-1}$\")\n",
    "\n",
    "save_fig(fig, relative_path=\"PSD_spectra.svg\")\n",
    "save_fig(fig, relative_path=\"PSD_spectra.png\", kwargs=dict(dpi=256))"
   ]
  },
  {
   "cell_type": "markdown",
   "metadata": {},
   "source": [
    "#### Evolution of latent variable"
   ]
  },
  {
   "cell_type": "code",
   "execution_count": null,
   "metadata": {},
   "outputs": [],
   "source": [
    "fig, axs = plt.subplots(\n",
    "    nrows=3, ncols=1, sharex=True, sharey=False, figsize=(12, 6), layout=\"constrained\"\n",
    ")\n",
    "\n",
    "member_idx = 42\n",
    "current_ds = kalman_states.sel(member=member_idx)\n",
    "axs[0].set_title(f\"Evolution of states | member: {member_idx}\")\n",
    "for idx, var in enumerate([\"NAO_ST\", \"AMO\", \"latent\"]):\n",
    "    axs[idx].plot(\n",
    "        current_ds.time, current_ds[var], label=var, color=variables_color[var]\n",
    "    )\n",
    "    axs[idx].set_ylabel(var, color=variables_color[var])\n",
    "\n",
    "for ax in axs.flatten():\n",
    "    ax.set_xlim(\n",
    "        xmin=current_ds.time.min(),\n",
    "        xmax=current_ds.time.max(),\n",
    "    )\n",
    "\n",
    "save_fig(fig, relative_path=f\"Evolution_{member_idx}.svg\")\n",
    "save_fig(fig, relative_path=f\"Evolution_{member_idx}.png\", kwargs=dict(dpi=256))"
   ]
  },
  {
   "cell_type": "markdown",
   "metadata": {},
   "source": [
    "### Perform smoothing of timeseries"
   ]
  },
  {
   "cell_type": "code",
   "execution_count": null,
   "metadata": {},
   "outputs": [],
   "source": [
    "import scipy as sp\n",
    "\n",
    "smooth_AMO = sp.fft.irfft(\n",
    "    np.median(sp.fft.rfft(miroc6.AMO.values, axis=1), axis=0),\n",
    ")\n",
    "\n",
    "smooth_NAO_ST = sp.fft.irfft(\n",
    "    np.median(sp.fft.rfft(miroc6.NAO_ST.values, axis=1), axis=0),\n",
    ")\n",
    "\n",
    "\n",
    "smooth_miroc6 = miroc6.mean(\"member\").copy()\n",
    "smooth_miroc6[\"AMO\"] = smooth_miroc6[\"AMO\"] * 0 + smooth_AMO\n",
    "smooth_miroc6[\"NAO_ST\"] = smooth_miroc6[\"NAO_ST\"] * 0 + smooth_NAO_ST"
   ]
  },
  {
   "cell_type": "code",
   "execution_count": null,
   "metadata": {},
   "outputs": [
    {
     "ename": "NameError",
     "evalue": "name 'plt' is not defined",
     "output_type": "error",
     "traceback": [
      "\u001b[1;31m---------------------------------------------------------------------------\u001b[0m",
      "\u001b[1;31mNameError\u001b[0m                                 Traceback (most recent call last)",
      "Cell \u001b[1;32mIn[1], line 1\u001b[0m\n\u001b[1;32m----> 1\u001b[0m fig, axs \u001b[39m=\u001b[39m plt\u001b[39m.\u001b[39msubplots(nrows \u001b[39m=\u001b[39m \u001b[39m3\u001b[39m, ncols \u001b[39m=\u001b[39m \u001b[39m1\u001b[39m, sharex \u001b[39m=\u001b[39m \u001b[39mTrue\u001b[39;00m, sharey\u001b[39m=\u001b[39m \u001b[39mFalse\u001b[39;00m, figsize \u001b[39m=\u001b[39m (\u001b[39m12\u001b[39m,\u001b[39m6\u001b[39m), layout \u001b[39m=\u001b[39m \u001b[39m\"\u001b[39m\u001b[39mconstrained\u001b[39m\u001b[39m\"\u001b[39m)\n\u001b[0;32m      3\u001b[0m current_ds \u001b[39m=\u001b[39m smooth_miroc6\n\u001b[0;32m      4\u001b[0m axs[\u001b[39m0\u001b[39m]\u001b[39m.\u001b[39mset_title(\u001b[39mf\u001b[39m\u001b[39m\"\u001b[39m\u001b[39mEvolution of states | inverse DFFT of median over members of DFFT\u001b[39m\u001b[39m\"\u001b[39m)\n",
      "\u001b[1;31mNameError\u001b[0m: name 'plt' is not defined"
     ]
    }
   ],
   "source": [
    "fig, axs = plt.subplots(\n",
    "    nrows=3, ncols=1, sharex=True, sharey=False, figsize=(12, 6), layout=\"constrained\"\n",
    ")\n",
    "\n",
    "current_ds = smooth_miroc6\n",
    "axs[0].set_title(f\"Evolution of states | inverse DFFT of median over members of DFFT\")\n",
    "for idx, var in enumerate([\"NAO_ST\", \"AMO\", \"latent\"]):\n",
    "    axs[idx].plot(\n",
    "        current_ds.time, current_ds[var], label=var, color=variables_color[var]\n",
    "    )\n",
    "    axs[idx].set_ylabel(var, color=variables_color[var])\n",
    "\n",
    "for ax in axs.flatten():\n",
    "    ax.set_xlim(\n",
    "        xmin=current_ds.time.min(),\n",
    "        xmax=current_ds.time.max(),\n",
    "    )\n",
    "\n",
    "# save_fig(fig, relative_path=f\"Evolution_{member_idx}.svg\")\n",
    "# save_fig(fig, relative_path=f\"Evolution_{member_idx}.png\", kwargs=dict(dpi = 256))"
   ]
  },
  {
   "cell_type": "code",
   "execution_count": null,
   "metadata": {},
   "outputs": [],
   "source": [
    "# smooth_kalman_result = pipeline.xarray_Kalman_SEM(\n",
    "#     ds = smooth_miroc6,\n",
    "#     observation_variables=[\"AMO\", \"NAO_ST\"],\n",
    "#     state_variables=[\"AMO\", \"NAO_ST\", \"latent\"],\n",
    "#     nb_iter_SEM=50\n",
    "# )"
   ]
  },
  {
   "cell_type": "code",
   "execution_count": null,
   "metadata": {},
   "outputs": [
    {
     "ename": "NameError",
     "evalue": "name 'smooth_kalman_result' is not defined",
     "output_type": "error",
     "traceback": [
      "\u001b[1;31m---------------------------------------------------------------------------\u001b[0m",
      "\u001b[1;31mNameError\u001b[0m                                 Traceback (most recent call last)",
      "Cell \u001b[1;32mIn[1], line 1\u001b[0m\n\u001b[1;32m----> 1\u001b[0m (smooth_kalman_result[\u001b[39m\"\u001b[39m\u001b[39mlog_likelihod\u001b[39m\u001b[39m\"\u001b[39m] \u001b[39m-\u001b[39m smooth_kalman_result[\u001b[39m\"\u001b[39m\u001b[39mlog_likelihod\u001b[39m\u001b[39m\"\u001b[39m]\u001b[39m.\u001b[39misel(kalman_iteration \u001b[39m=\u001b[39m \u001b[39m0\u001b[39m))\u001b[39m.\u001b[39mplot()\n",
      "\u001b[1;31mNameError\u001b[0m: name 'smooth_kalman_result' is not defined"
     ]
    }
   ],
   "source": [
    "(\n",
    "    smooth_kalman_result[\"log_likelihod\"]\n",
    "    - smooth_kalman_result[\"log_likelihod\"].isel(kalman_iteration=0)\n",
    ").plot()"
   ]
  },
  {
   "cell_type": "code",
   "execution_count": null,
   "metadata": {},
   "outputs": [],
   "source": [
    "smooth_kalman_states = pipeline.from_standard_dataset(\n",
    "    smooth_kalman_result, var_name=\"states\"\n",
    ")"
   ]
  },
  {
   "cell_type": "code",
   "execution_count": null,
   "metadata": {},
   "outputs": [],
   "source": [
    "fig, axs = plt.subplots(\n",
    "    nrows=3, ncols=1, sharex=True, sharey=False, figsize=(12, 6), layout=\"constrained\"\n",
    ")\n",
    "\n",
    "current_ds = smooth_miroc6\n",
    "axs[0].set_title(f\"Evolution of states | Final state using frequency smoothed\")\n",
    "for idx, var in enumerate([\"NAO_ST\", \"AMO\", \"latent\"]):\n",
    "    axs[idx].plot(\n",
    "        current_ds.time, current_ds[var], label=var, color=variables_color[var]\n",
    "    )\n",
    "    axs[idx].set_ylabel(var, color=variables_color[var])\n",
    "\n",
    "for ax in axs.flatten():\n",
    "    ax.set_xlim(\n",
    "        xmin=current_ds.time.min(),\n",
    "        xmax=current_ds.time.max(),\n",
    "    )\n",
    "\n",
    "# save_fig(fig, relative_path=f\"Evolution_{member_idx}.svg\")\n",
    "# save_fig(fig, relative_path=f\"Evolution_{member_idx}.png\", kwargs=dict(dpi = 256))"
   ]
  },
  {
   "cell_type": "code",
   "execution_count": null,
   "metadata": {},
   "outputs": [],
   "source": [
    "welch_kwargs = dict(\n",
    "    fs=fs,\n",
    "    window=\"boxcar\",\n",
    "    nperseg=len(miroc6.time),\n",
    ")\n",
    "\n",
    "smooth_miroc6_freq = xarray_dataset_welch(\n",
    "    ds=smooth_miroc6,\n",
    "    dim=\"time\",\n",
    "    welch_kwargs=welch_kwargs,\n",
    ")\n",
    "smooth_kalman_states_freq = xarray_dataset_welch(\n",
    "    ds=smooth_kalman_states,\n",
    "    dim=\"time\",\n",
    "    welch_kwargs=welch_kwargs,\n",
    ")"
   ]
  },
  {
   "cell_type": "markdown",
   "metadata": {},
   "source": [
    "#### Plot frequency analysis"
   ]
  },
  {
   "cell_type": "code",
   "execution_count": null,
   "metadata": {},
   "outputs": [
    {
     "data": {
      "text/plain": [
       "Text(0.5, 0, 'Frequency in $y^{-1}$')"
      ]
     },
     "execution_count": null,
     "metadata": {},
     "output_type": "execute_result"
    }
   ],
   "source": [
    "fig, ax = plt.subplots(\n",
    "    nrows=1, ncols=1, sharex=True, sharey=True, figsize=(12, 6), layout=\"constrained\"\n",
    ")\n",
    "\n",
    "for var in [\"AMO\", \"NAO_ST\", \"latent\"]:\n",
    "    data = smooth_kalman_states_freq[var]\n",
    "    ax.loglog(\n",
    "        data.frequency,\n",
    "        data,\n",
    "        linestyle=\"-\",\n",
    "        color=variables_color[var],\n",
    "        zorder=5,\n",
    "        label=var,\n",
    "        linewidth=3,\n",
    "    )\n",
    "var = \"latent\"\n",
    "ax.loglog(\n",
    "    smooth_miroc6_freq.frequency,\n",
    "    smooth_miroc6_freq[var],\n",
    "    linestyle=\"-\",\n",
    "    color=variables_color[\"latent_2\"],\n",
    "    zorder=2,\n",
    "    alpha=0.75,\n",
    "    linewidth=3,\n",
    "    label=f\"{var} init.\",\n",
    ")\n",
    "\n",
    "ax.legend(loc=\"lower left\")\n",
    "\n",
    "ax.set_ylim(ymin=10 ** (-6.5), ymax=10 ** (0.5))\n",
    "ax.set_ylabel(r\"PSD in $V^2 y^{-1}$\")\n",
    "ax.set_xlabel(r\"Frequency in $y^{-1}$\")\n",
    "\n",
    "# save_fig(fig, relative_path=\"PSD_spectra.svg\")\n",
    "# save_fig(fig, relative_path=\"PSD_spectra.png\", kwargs=dict(dpi = 256))"
   ]
  },
  {
   "cell_type": "markdown",
   "metadata": {},
   "source": [
    "### Member 42 analysis multiple latent variables"
   ]
  },
  {
   "cell_type": "code",
   "execution_count": null,
   "metadata": {},
   "outputs": [],
   "source": [
    "plot_colors(colors)\n",
    "\n",
    "variables_color[\"latent1\"] = colors[1]\n",
    "variables_color[\"latent2\"] = colors[3]\n",
    "variables_color[\"latent3\"] = colors[5]"
   ]
  },
  {
   "cell_type": "code",
   "execution_count": null,
   "metadata": {},
   "outputs": [],
   "source": [
    "ds_member42 = miroc6.sel(member=42).copy()\n",
    "number_latent = 3\n",
    "seed = 903298487326\n",
    "for i in range(1, number_latent + 1):\n",
    "    rng2 = np.random.default_rng(seed=seed + i)\n",
    "    pipeline.add_random_variable(\n",
    "        ds=ds_member42,\n",
    "        random_generator=rng2,\n",
    "        var_name=f\"latent{i}\",\n",
    "        variance=1,\n",
    "        dim=\"time\",\n",
    "    )\n",
    "ds_member42\n",
    "\n",
    "state_variables = [\"NAO_ST\", \"AMO\"] + [\n",
    "    f\"latent{i}\" for i in range(1, number_latent + 1)\n",
    "]"
   ]
  },
  {
   "cell_type": "code",
   "execution_count": null,
   "metadata": {},
   "outputs": [
    {
     "name": "stderr",
     "output_type": "stream",
     "text": [
      "100%|██████████| 50/50 [00:36<00:00,  1.38it/s]\n"
     ]
    }
   ],
   "source": [
    "member42_kalman_result = pipeline.xarray_Kalman_SEM(\n",
    "    ds=ds_member42,\n",
    "    observation_variables=[\"AMO\", \"NAO_ST\"],\n",
    "    state_variables=state_variables,\n",
    "    nb_iter_SEM=50,\n",
    "    variance_obs_comp=0.001,\n",
    ")"
   ]
  },
  {
   "cell_type": "code",
   "execution_count": null,
   "metadata": {},
   "outputs": [],
   "source": [
    "member42_kalman_states = pipeline.from_standard_dataset(member42_kalman_result)"
   ]
  },
  {
   "cell_type": "code",
   "execution_count": null,
   "metadata": {},
   "outputs": [],
   "source": [
    "height = int(6 / 4 * len(state_variables))\n",
    "fig, axs = plt.subplots(\n",
    "    nrows=len(state_variables),\n",
    "    ncols=1,\n",
    "    sharex=True,\n",
    "    sharey=False,\n",
    "    figsize=(12, height),\n",
    "    layout=\"constrained\",\n",
    ")\n",
    "\n",
    "current_ds = member42_kalman_states.isel(time=slice(2, 1000000))\n",
    "axs[0].set_title(f\"Evolution of states | Final state using frequency smoothed\")\n",
    "for idx, var in enumerate(state_variables):\n",
    "    axs[idx].plot(\n",
    "        current_ds.time, current_ds[var], label=var, color=variables_color[var]\n",
    "    )\n",
    "    axs[idx].set_ylabel(var, color=variables_color[var])\n",
    "\n",
    "for ax in axs.flatten():\n",
    "    ax.set_xlim(\n",
    "        xmin=current_ds.time.min(),\n",
    "        xmax=current_ds.time.max(),\n",
    "    )\n",
    "\n",
    "save_fig(fig, relative_path=f\"Evolution_member_42_latent{number_latent}.svg\")\n",
    "save_fig(\n",
    "    fig,\n",
    "    relative_path=f\"Evolution_member_42_latent{number_latent}.png\",\n",
    "    kwargs=dict(dpi=256),\n",
    ")"
   ]
  },
  {
   "cell_type": "code",
   "execution_count": null,
   "metadata": {},
   "outputs": [],
   "source": [
    "welch_kwargs = dict(\n",
    "    fs=fs,\n",
    "    window=\"boxcar\",\n",
    "    nperseg=len(miroc6.time),\n",
    ")\n",
    "\n",
    "member42_kalman_states_freq = xarray_dataset_welch(\n",
    "    ds=member42_kalman_states,\n",
    "    dim=\"time\",\n",
    "    welch_kwargs=welch_kwargs,\n",
    ")\n",
    "ds_member42_freq = xarray_dataset_welch(\n",
    "    ds=ds_member42,\n",
    "    dim=\"time\",\n",
    "    welch_kwargs=welch_kwargs,\n",
    ")"
   ]
  },
  {
   "cell_type": "code",
   "execution_count": null,
   "metadata": {},
   "outputs": [],
   "source": [
    "fig, ax = plt.subplots(\n",
    "    nrows=1, ncols=1, sharex=True, sharey=True, figsize=(12, 6), layout=\"constrained\"\n",
    ")\n",
    "\n",
    "current_ds = member42_kalman_states_freq\n",
    "for var in [\"AMO\", \"NAO_ST\", \"latent1\", \"latent2\", \"latent3\"]:\n",
    "    data = current_ds[var]\n",
    "    ax.loglog(\n",
    "        data.frequency,\n",
    "        data,\n",
    "        linestyle=\"-\",\n",
    "        color=variables_color[var],\n",
    "        zorder=5,\n",
    "        label=var,\n",
    "        linewidth=3,\n",
    "        alpha=0.7,\n",
    "    )\n",
    "\n",
    "ax.legend(loc=\"lower left\")\n",
    "\n",
    "ax.set_ylim(ymin=10 ** (-6.5), ymax=10 ** (0.5))\n",
    "ax.set_ylabel(r\"PSD in $V^2 y^{-1}$\")\n",
    "ax.set_xlabel(r\"Frequency in $y^{-1}$\")\n",
    "\n",
    "save_fig(fig, relative_path=f\"PSD_spectra_42_latent{number_latent}.svg\")\n",
    "save_fig(\n",
    "    fig, relative_path=f\"PSD_spectra_42_latent{number_latent}.png\", kwargs=dict(dpi=256)\n",
    ")"
   ]
  },
  {
   "cell_type": "code",
   "execution_count": null,
   "metadata": {},
   "outputs": [],
   "source": [
    "member42_kalman_states_df = normalize(\n",
    "    member42_kalman_states.drop(\"member\")\n",
    "    .drop(\"kalman_iteration\")\n",
    "    .drop(\"state_name_copy\"),\n",
    "    method=\"mean\",\n",
    ").to_dataframe()\n",
    "member42_kalman_states_df"
   ]
  },
  {
   "cell_type": "code",
   "execution_count": null,
   "metadata": {},
   "outputs": [
    {
     "data": {
      "text/plain": [
       "<seaborn.axisgrid.PairGrid at 0x19b68f7bb80>"
      ]
     },
     "execution_count": null,
     "metadata": {},
     "output_type": "execute_result"
    }
   ],
   "source": [
    "g = sns.PairGrid(member42_kalman_states_df)\n",
    "g.map_upper(sns.histplot, kde=True)\n",
    "g.map_lower(sns.kdeplot, fill=True)\n",
    "g.map_diag(sns.histplot, kde=True)"
   ]
  },
  {
   "cell_type": "code",
   "execution_count": null,
   "metadata": {},
   "outputs": [],
   "source": [
    "save_fig(g, relative_path=f\"3_latent_distribution_42_latent_{number_latent}.pdf\")\n",
    "save_fig(g, relative_path=f\"3_latent_distribution_42_latent_{number_latent}.svg\")\n",
    "save_fig(g, relative_path=f\"3_latent_distribution_42_latent_{number_latent}.png\")"
   ]
  }
 ],
 "metadata": {
  "kernelspec": {
   "display_name": "climNum",
   "language": "python",
   "name": "python3"
  },
  "language_info": {
   "codemirror_mode": {
    "name": "ipython",
    "version": 3
   },
   "file_extension": ".py",
   "mimetype": "text/x-python",
   "name": "python",
   "nbconvert_exporter": "python",
   "pygments_lexer": "ipython3",
   "version": "3.10.9"
  }
 },
 "nbformat": 4,
 "nbformat_minor": 2
}
