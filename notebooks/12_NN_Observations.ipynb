{
 "cells": [
  {
   "cell_type": "code",
   "execution_count": null,
   "metadata": {},
   "outputs": [],
   "source": [
    "import numpy as np\n",
    "import pandas as pd\n",
    "import xarray as xr"
   ]
  },
  {
   "cell_type": "code",
   "execution_count": null,
   "metadata": {},
   "outputs": [
    {
     "name": "stderr",
     "output_type": "stream",
     "text": [
      "C:\\Users\\Niebaum\\AppData\\Local\\Temp\\ipykernel_9632\\3217758463.py:1: ParserWarning: Falling back to the 'python' engine because the 'c' engine does not support skipfooter; you can avoid this warning by specifying engine='python'.\n",
      "  NAO_df = pd.read_csv(\n"
     ]
    }
   ],
   "source": [
    "NAO_df = pd.read_csv(\n",
    "    r\"C:\\Users\\Niebaum\\Documents\\Repositories\\reconstruct-climate-indices\\data\\observations\\NAO\\nao.csv\",\n",
    "    delim_whitespace=True,\n",
    "    skiprows=1,\n",
    "    header=None,\n",
    "    index_col=0,\n",
    "    skipfooter=3,\n",
    "    # encoding='utf-16'\n",
    ")\n",
    "NAO_df\n",
    "NAO_df.index = pd.to_datetime(NAO_df.index)\n",
    "NAO_df.index.name = \"Year\"\n",
    "\n",
    "\n",
    "NAO_np = NAO_df.to_numpy().flatten()\n",
    "NAO_date = pd.date_range(start=\"1948-01-01\", periods=len(NAO_np), freq=\"MS\")"
   ]
  },
  {
   "cell_type": "code",
   "execution_count": null,
   "metadata": {},
   "outputs": [
    {
     "name": "stderr",
     "output_type": "stream",
     "text": [
      "C:\\Users\\Niebaum\\AppData\\Local\\Temp\\ipykernel_9632\\1580544381.py:1: ParserWarning: Falling back to the 'python' engine because the 'c' engine does not support skipfooter; you can avoid this warning by specifying engine='python'.\n",
      "  AMO_df = pd.read_csv(\n"
     ]
    }
   ],
   "source": [
    "AMO_df = pd.read_csv(\n",
    "    r\"C:\\Users\\Niebaum\\Documents\\Repositories\\reconstruct-climate-indices\\data\\observations\\AMO\\amo.csv\",\n",
    "    delim_whitespace=True,\n",
    "    skiprows=1,\n",
    "    header=None,\n",
    "    index_col=0,\n",
    "    skipfooter=4,\n",
    "    # encoding='utf-16'\n",
    ")\n",
    "AMO_df\n",
    "AMO_df.index = pd.to_datetime(AMO_df.index)\n",
    "AMO_df.index.name = \"Year\"\n",
    "\n",
    "\n",
    "AMO_np = AMO_df.to_numpy().flatten()\n",
    "# AMO_np = np.tile(AMO_np, 3)\n",
    "# NAO_np = np.tile(NAO_np, 3)\n",
    "\n",
    "AMO_date = pd.date_range(start=\"1948-01-01\", periods=len(AMO_np), freq=\"MS\")"
   ]
  },
  {
   "cell_type": "code",
   "execution_count": null,
   "metadata": {},
   "outputs": [
    {
     "name": "stderr",
     "output_type": "stream",
     "text": [
      "  0%|          | 0/30 [00:00<?, ?it/s]"
     ]
    },
    {
     "name": "stderr",
     "output_type": "stream",
     "text": [
      "100%|██████████| 30/30 [00:11<00:00,  2.57it/s]\n"
     ]
    }
   ],
   "source": [
    "data = xr.Dataset(\n",
    "    data_vars=dict(NAO=([\"time\"], NAO_np), AMO=([\"time\"], AMO_np)),\n",
    "    coords=dict(time=([\"time\"], AMO_date)),\n",
    ")\n",
    "for var in data.data_vars:\n",
    "    data[var][data[var] == -99.99] = np.nan\n",
    "    data[var][data[var] == -99.9] = np.nan\n",
    "\n",
    "\n",
    "mask = np.isfinite(data)\n",
    "finite_mask = np.logical_and(mask.AMO.values, mask.NAO.values)\n",
    "data = data.sel(time=data.time[finite_mask])\n",
    "\n",
    "\n",
    "from kalman_reconstruction.pipeline import (\n",
    "    add_random_variable,\n",
    "    xarray_Kalman_SEM,\n",
    "    from_standard_dataset,\n",
    ")\n",
    "from kalman_reconstruction.statistics import normalize\n",
    "\n",
    "add_random_variable(\n",
    "    ds=data,\n",
    "    var_name=\"latent\",\n",
    "    random_generator=np.random.default_rng(seed=10000),\n",
    "    dim=\"time\",\n",
    "    variance=1,\n",
    ")\n",
    "data[\"sin\"] = (\n",
    "    np.sin(2 * np.pi * np.arange(0, len(data.time)) / (10 * 12)) + data.AMO * 0\n",
    ")\n",
    "data[\"sin\"].plot()\n",
    "res = xarray_Kalman_SEM(\n",
    "    ds=data,\n",
    "    observation_variables=[\"AMO\", \"NAO\"],\n",
    "    state_variables=[\"AMO\", \"NAO\", \"latent\"],\n",
    "    nb_iter_SEM=30,\n",
    ")"
   ]
  },
  {
   "cell_type": "code",
   "execution_count": null,
   "metadata": {},
   "outputs": [],
   "source": [
    "res[\"log_likelihod\"].plot()\n",
    "res_kalman_states = from_standard_dataset(res)"
   ]
  },
  {
   "cell_type": "code",
   "execution_count": null,
   "metadata": {},
   "outputs": [],
   "source": [
    "import matplotlib.pyplot as plt\n",
    "\n",
    "for var in [\"NAO\", \"AMO\"]:\n",
    "    plt.scatter(data[var], res_kalman_states[\"latent\"], label=var)"
   ]
  },
  {
   "cell_type": "code",
   "execution_count": null,
   "metadata": {},
   "outputs": [],
   "source": [
    "import numpy as np\n",
    "from pathlib import Path\n",
    "from kalman_reconstruction.custom_plot import (\n",
    "    set_custom_rcParams,\n",
    "    adjust_lightness,\n",
    "    handler_map_alpha,\n",
    "    plot_colors,\n",
    "    symmetrize_axis,\n",
    ")\n",
    "from reconstruct_climate_indices.idealized_ocean import spunge_ocean, oscillatory_ocean\n",
    "from reconstruct_climate_indices.statistics import linear_regression_loglog\n",
    "import matplotlib.pyplot as plt\n",
    "from kalman_reconstruction.statistics import normalize\n",
    "\n",
    "# from sklearn.linear_model import LinearRegression\n",
    "from scipy import signal"
   ]
  },
  {
   "cell_type": "code",
   "execution_count": null,
   "metadata": {},
   "outputs": [
    {
     "data": {
      "text/plain": [
       "1800.0"
      ]
     },
     "execution_count": null,
     "metadata": {},
     "output_type": "execute_result"
    }
   ],
   "source": [
    "150 * 365.25 / 30.4375"
   ]
  },
  {
   "cell_type": "code",
   "execution_count": null,
   "metadata": {},
   "outputs": [],
   "source": [
    "# plt.style.use('default')\n",
    "# dark_color = [0.2, 0.2, 0.2]\n",
    "# light_color = [0.9, 0.9, 0.9]\n",
    "# lightness_0 = 0.75\n",
    "# lightness_1 = 0.5\n",
    "plt.style.use(\"dark_background\")\n",
    "dark_color = [0.7, 0.7, 0.7]\n",
    "light_color = [0.1, 0.1, 0.1]\n",
    "lightness_0 = 1.15\n",
    "lightness_1 = 1.5\n",
    "set_custom_rcParams()\n",
    "plt.rcParams[\"axes.grid\"] = False\n",
    "colors = [\n",
    "    \"#CC6677\",\n",
    "    \"#6E9CB3\",\n",
    "    \"#CA8727\",\n",
    "    \"#44AA99\",\n",
    "    \"#AA4499\",\n",
    "    \"#D6BE49\",\n",
    "    \"#A494F5\",\n",
    "]\n",
    "plot_colors(colors)\n",
    "variables_color = dict()\n",
    "variables_color[\"NAO\"] = colors[0]\n",
    "variables_color[\"AMO\"] = colors[2]\n",
    "variables_color[\"sin\"] = colors[1]\n",
    "variables_color[\"latent\"] = colors[3]"
   ]
  },
  {
   "cell_type": "code",
   "execution_count": null,
   "metadata": {},
   "outputs": [],
   "source": [
    "fs = 12\n",
    "welch_window_width = 100\n",
    "fig, axs = plt.subplots(\n",
    "    nrows=2, ncols=1, layout=\"constrained\", sharex=True, sharey=True\n",
    ")\n",
    "kwargs = dict(\n",
    "    linestyle=\"-\",\n",
    "    linewidth=\"1\",\n",
    "    marker=\".\",\n",
    ")\n",
    "\n",
    "axs = axs.flatten()\n",
    "idx = 0  # x index to plot the text at\n",
    "\n",
    "axs[0].set_title(\"Observaions\")\n",
    "\n",
    "# ------------------\n",
    "# plot SAT\n",
    "# ------------------\n",
    "for var in [\"NAO\", \"AMO\", \"latent\"]:\n",
    "    color = variables_color[var]\n",
    "    x = data[var].values\n",
    "    frequencies, spectrum = signal.welch(x=x, fs=fs, window=\"hann\", nperseg=len(x))\n",
    "    axs[0].loglog(frequencies, spectrum, label=f\"{var}\", color=color, alpha=0.7)\n",
    "    # frequencies, spectrum = signal.welch(\n",
    "    #         x = x,\n",
    "    #         fs=fs,\n",
    "    #         window=\"hann\",\n",
    "    #         nperseg = int(welch_window_width*fs)\n",
    "    #     )\n",
    "    # axs[0].loglog(\n",
    "    #     frequencies,\n",
    "    #     spectrum,\n",
    "    #     label = f\"{var} welch\",\n",
    "    #     color = adjust_lightness(color, lightness_0),\n",
    "    # )\n",
    "    frequencies_linear, spectrum_linear, regression = linear_regression_loglog(\n",
    "        frequencies=frequencies, spectrum=spectrum, weights=\"f_inverse\"\n",
    "    )\n",
    "    slope = regression.coef_[0, 0]\n",
    "    axs[0].loglog(\n",
    "        frequencies_linear,\n",
    "        spectrum_linear,\n",
    "        color=adjust_lightness(color, lightness_1),\n",
    "    )\n",
    "    axs[0].text(\n",
    "        frequencies_linear[idx],\n",
    "        spectrum_linear[idx],\n",
    "        f\"m={slope:.2f}\",\n",
    "        ha=\"right\",\n",
    "        va=\"bottom\",\n",
    "        bbox=dict(facecolor=light_color, edgecolor=\"None\", alpha=0.25),\n",
    "        color=adjust_lightness(color, lightness_1),\n",
    "    )\n",
    "\n",
    "\n",
    "for var in [\"NAO\", \"AMO\", \"latent\"]:\n",
    "    color = variables_color[var]\n",
    "    x = res_kalman_states[var].values\n",
    "    frequencies, spectrum = signal.welch(x=x, fs=fs, window=\"hann\", nperseg=len(x))\n",
    "    axs[1].loglog(frequencies, spectrum, label=f\"{var}\", color=color, alpha=0.7)\n",
    "    # frequencies, spectrum = signal.welch(\n",
    "    #         x = x,\n",
    "    #         fs=fs,\n",
    "    #         window=\"hann\",\n",
    "    #         nperseg = int(welch_window_width*fs)\n",
    "    #     )\n",
    "    # axs[0].loglog(\n",
    "    #     frequencies,\n",
    "    #     spectrum,\n",
    "    #     label = f\"{var} welch\",\n",
    "    #     color = adjust_lightness(color, lightness_0),\n",
    "    # )\n",
    "    frequencies_linear, spectrum_linear, regression = linear_regression_loglog(\n",
    "        frequencies=frequencies, spectrum=spectrum, weights=\"f_inverse\"\n",
    "    )\n",
    "    slope = regression.coef_[0, 0]\n",
    "    axs[1].loglog(\n",
    "        frequencies_linear,\n",
    "        spectrum_linear,\n",
    "        color=adjust_lightness(color, lightness_1),\n",
    "    )\n",
    "    axs[1].text(\n",
    "        frequencies_linear[idx],\n",
    "        spectrum_linear[idx],\n",
    "        f\"m={slope:.2f}\",\n",
    "        ha=\"right\",\n",
    "        va=\"bottom\",\n",
    "        bbox=dict(facecolor=light_color, edgecolor=\"None\", alpha=0.25),\n",
    "        color=adjust_lightness(color, lightness_1),\n",
    "    )\n",
    "\n",
    "\n",
    "for ax in axs.flatten():\n",
    "    ax.axvline(\n",
    "        1 / welch_window_width, color=dark_color, linestyle=\"-\"\n",
    "    )  # , label = f\"welch window.:\\n{welch_window_width}\")\n",
    "    ax.text(\n",
    "        1 / welch_window_width,\n",
    "        10 ** (-6.5),\n",
    "        r\"$f_{welch}$\",\n",
    "        ha=\"right\",\n",
    "        va=\"bottom\",\n",
    "        c=dark_color,\n",
    "        rotation=90,\n",
    "    )\n",
    "    ax.legend(ncol=2, labelspacing=0.01, loc=\"lower left\")\n",
    "\n",
    "# fig.suptitle(f\"$\\tau_0$:{tau0} years | $\\omega_0$:{omega0} years | welch_windon:{welch_window_width} years | duration {years} years\")\n",
    "\n",
    "# save_fig(fig=fig, relative_path=f\"Frequency_{years}y.pdf\")"
   ]
  }
 ],
 "metadata": {
  "kernelspec": {
   "display_name": "climNum",
   "language": "python",
   "name": "python3"
  },
  "language_info": {
   "codemirror_mode": {
    "name": "ipython",
    "version": 3
   },
   "file_extension": ".py",
   "mimetype": "text/x-python",
   "name": "python",
   "nbconvert_exporter": "python",
   "pygments_lexer": "ipython3",
   "version": "3.10.9"
  }
 },
 "nbformat": 4,
 "nbformat_minor": 2
}
