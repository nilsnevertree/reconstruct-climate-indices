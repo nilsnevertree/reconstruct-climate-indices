{
 "cells": [
  {
   "cell_type": "code",
   "execution_count": null,
   "metadata": {},
   "outputs": [],
   "source": [
    "import numpy as np\n",
    "import pandas as pd\n",
    "import xarray as xr\n",
    "from pathlib import Path\n",
    "from kalman_reconstruction.custom_plot import (\n",
    "    set_custom_rcParams,\n",
    "    adjust_lightness,\n",
    "    handler_map_alpha,\n",
    "    plot_colors,\n",
    "    symmetrize_axis,\n",
    ")\n",
    "from kalman_reconstruction.pipeline import (\n",
    "    add_random_variable,\n",
    "    xarray_Kalman_SEM,\n",
    "    xarray_Kalman_SEM_full_output,\n",
    "    from_standard_dataset,\n",
    ")\n",
    "from kalman_reconstruction.statistics import normalize\n",
    "from reconstruct_climate_indices.idealized_ocean import spunge_ocean, oscillatory_ocean\n",
    "from reconstruct_climate_indices.statistics import (\n",
    "    linear_regression_loglog,\n",
    "    xarray_dataset_welch,\n",
    ")\n",
    "import matplotlib.pyplot as plt\n",
    "from matplotlib import animation\n",
    "from kalman_reconstruction.statistics import normalize\n",
    "\n",
    "# from sklearn.linear_model import LinearRegression\n",
    "from scipy import signal"
   ]
  },
  {
   "cell_type": "code",
   "execution_count": null,
   "metadata": {},
   "outputs": [],
   "source": [
    "# plt.style.use('default')\n",
    "# dark_color = [0.2, 0.2, 0.2]\n",
    "# light_color = [0.9, 0.9, 0.9]\n",
    "# lightness_0 = 0.75\n",
    "# lightness_1 = 0.5\n",
    "plt.style.use(\"dark_background\")\n",
    "dark_color = [0.7, 0.7, 0.7]\n",
    "light_color = [0.1, 0.1, 0.1]\n",
    "lightness_0 = 1.15\n",
    "lightness_1 = 1.5\n",
    "colors = set_custom_rcParams()\n",
    "# Set axis spines visibility\n",
    "plt.rc(\n",
    "    \"axes.spines\",\n",
    "    **{\n",
    "        \"left\": False,\n",
    "        \"right\": False,\n",
    "        \"bottom\": True,\n",
    "        \"top\": False,\n",
    "    },\n",
    ")\n",
    "plt.rcParams[\"axes.grid\"] = False\n",
    "\n",
    "plot_colors(colors)\n",
    "variables_color = dict()\n",
    "variables_color[\"NAO\"] = colors[0]\n",
    "variables_color[\"AMO\"] = colors[2]\n",
    "variables_color[\"sin\"] = colors[1]\n",
    "variables_color[\"latent\"] = colors[3]"
   ]
  },
  {
   "cell_type": "code",
   "execution_count": null,
   "metadata": {},
   "outputs": [],
   "source": [
    "REPO_PATH = Path(\".\").resolve().parent\n",
    "results_path = REPO_PATH / Path(\"results\") / \"Presentation\"\n",
    "results_path.mkdir(parents=True, exist_ok=True)\n",
    "SAVE_FIGURES = True\n",
    "\n",
    "\n",
    "def save_fig(fig, relative_path, **kwargs):\n",
    "    store_path = results_path / relative_path\n",
    "    store_path.parent.mkdir(parents=True, exist_ok=True)\n",
    "    if SAVE_FIGURES:\n",
    "        fig.savefig(store_path, **kwargs)\n",
    "    else:\n",
    "        pass"
   ]
  },
  {
   "cell_type": "code",
   "execution_count": null,
   "metadata": {},
   "outputs": [
    {
     "name": "stderr",
     "output_type": "stream",
     "text": [
      "C:\\Users\\Niebaum\\AppData\\Local\\Temp\\ipykernel_13516\\3452153619.py:1: ParserWarning: Falling back to the 'python' engine because the 'c' engine does not support skipfooter; you can avoid this warning by specifying engine='python'.\n",
      "  NAO_df = pd.read_csv(\n"
     ]
    }
   ],
   "source": [
    "NAO_df = pd.read_csv(\n",
    "    r\"C:\\Users\\Niebaum\\Documents\\Repositories\\reconstruct-climate-indices\\data\\observations\\NAO\\nao.csv\",\n",
    "    delim_whitespace=True,\n",
    "    skiprows=1,\n",
    "    header=None,\n",
    "    index_col=0,\n",
    "    skipfooter=3,\n",
    "    # encoding='utf-16'\n",
    ")\n",
    "NAO_df\n",
    "NAO_df.index = pd.to_datetime(NAO_df.index)\n",
    "NAO_df.index.name = \"Year\"\n",
    "\n",
    "\n",
    "NAO_np = NAO_df.to_numpy().flatten()\n",
    "NAO_date = pd.date_range(start=\"1948-01-01\", periods=len(NAO_np), freq=\"MS\")"
   ]
  },
  {
   "cell_type": "code",
   "execution_count": null,
   "metadata": {},
   "outputs": [
    {
     "name": "stderr",
     "output_type": "stream",
     "text": [
      "C:\\Users\\Niebaum\\AppData\\Local\\Temp\\ipykernel_13516\\1152108778.py:1: ParserWarning: Falling back to the 'python' engine because the 'c' engine does not support skipfooter; you can avoid this warning by specifying engine='python'.\n",
      "  AMO_df = pd.read_csv(\n"
     ]
    }
   ],
   "source": [
    "AMO_df = pd.read_csv(\n",
    "    r\"C:\\Users\\Niebaum\\Documents\\Repositories\\reconstruct-climate-indices\\data\\observations\\AMO\\amo.csv\",\n",
    "    delim_whitespace=True,\n",
    "    skiprows=1,\n",
    "    header=None,\n",
    "    index_col=0,\n",
    "    skipfooter=4,\n",
    "    # encoding='utf-16'\n",
    ")\n",
    "AMO_df\n",
    "AMO_df.index = pd.to_datetime(AMO_df.index)\n",
    "AMO_df.index.name = \"Year\"\n",
    "\n",
    "AMO_np = AMO_df.to_numpy().flatten()\n",
    "# AMO_np = np.tile(AMO_np, 3)\n",
    "# NAO_np = np.tile(NAO_np, 3)\n",
    "\n",
    "AMO_date = pd.date_range(start=\"1948-01-01\", periods=len(AMO_np), freq=\"MS\")\n",
    "AMO_df"
   ]
  },
  {
   "cell_type": "code",
   "execution_count": null,
   "metadata": {},
   "outputs": [],
   "source": [
    "data = xr.Dataset(\n",
    "    data_vars=dict(NAO=([\"time\"], NAO_np), AMO=([\"time\"], AMO_np)),\n",
    "    coords=dict(time=([\"time\"], AMO_date)),\n",
    ")\n",
    "for var in data.data_vars:\n",
    "    data[var][data[var] == -99.99] = np.nan\n",
    "    data[var][data[var] == -99.9] = np.nan\n",
    "\n",
    "# smooth\n",
    "data[\"AMO\"] = data[\"AMO\"].rolling(time=5 * 12, center=True).mean()\n",
    "\n",
    "mask = np.isfinite(data)\n",
    "finite_mask = np.logical_and(mask.AMO.values, mask.NAO.values)\n",
    "data = data.sel(time=data.time[finite_mask])\n",
    "\n",
    "\n",
    "# plot data\n",
    "fig, ax_NAO = plt.subplots(1, 1)\n",
    "\n",
    "ax_AMO = ax_NAO.twinx()\n",
    "# plot NAO\n",
    "color = variables_color[\"NAO\"]\n",
    "ax_NAO.plot(data.time, data.NAO, color=color, linewidth=2, alpha=0.75)\n",
    "ax_NAO.set_xlabel(\"year\")\n",
    "ax_NAO.set_ylabel(\"NAO\")\n",
    "ax_NAO.spines[\"right\"].set_color(color)\n",
    "ax_NAO.yaxis.label.set_color(color)\n",
    "ax_NAO.tick_params(axis=\"y\", colors=color)\n",
    "# plot AMO\n",
    "color = variables_color[\"AMO\"]\n",
    "ax_AMO.plot(data.time, data.AMO, color=color, linewidth=2)\n",
    "ax_AMO.set_xlabel(\"year\")\n",
    "ax_AMO.set_ylabel(\"AMO\")\n",
    "ax_AMO.spines[\"right\"].set_color(color)\n",
    "ax_AMO.yaxis.label.set_color(color)\n",
    "ax_AMO.tick_params(axis=\"y\", colors=color)"
   ]
  },
  {
   "cell_type": "code",
   "execution_count": null,
   "metadata": {},
   "outputs": [
    {
     "name": "stderr",
     "output_type": "stream",
     "text": [
      "  0%|          | 0/50 [00:00<?, ?it/s]"
     ]
    },
    {
     "name": "stderr",
     "output_type": "stream",
     "text": [
      "100%|██████████| 50/50 [00:25<00:00,  1.97it/s]\n"
     ]
    }
   ],
   "source": [
    "data = normalize(data)\n",
    "\n",
    "add_random_variable(\n",
    "    ds=data,\n",
    "    var_name=\"latent\",\n",
    "    random_generator=np.random.default_rng(seed=10000),\n",
    "    dim=\"time\",\n",
    "    variance=1,\n",
    ")\n",
    "# data[\"sin\"] = (\n",
    "#     np.sin(2 * np.pi * np.arange(0, len(data.time)) / (10 * 12)) + data.AMO * 0\n",
    "# )\n",
    "# data[\"sin\"].plot()\n",
    "nb_iter_SEM = 50\n",
    "data_kalman = xarray_Kalman_SEM_full_output(\n",
    "    ds=data,\n",
    "    observation_variables=[\"AMO\", \"NAO\"],\n",
    "    state_variables=[\"AMO\", \"NAO\", \"latent\"],\n",
    "    nb_iter_SEM=nb_iter_SEM,\n",
    "    variance_obs_comp=0.0001,\n",
    ")\n",
    "data_kalman_states = from_standard_dataset(data_kalman)"
   ]
  },
  {
   "cell_type": "code",
   "execution_count": null,
   "metadata": {},
   "outputs": [
    {
     "data": {
      "text/plain": [
       "[<matplotlib.lines.Line2D at 0x1b750972140>]"
      ]
     },
     "execution_count": null,
     "metadata": {},
     "output_type": "execute_result"
    }
   ],
   "source": [
    "data_kalman[\"log_likelihod\"].plot()"
   ]
  },
  {
   "cell_type": "code",
   "execution_count": null,
   "metadata": {},
   "outputs": [],
   "source": [
    "for var in [\"NAO\", \"AMO\"]:\n",
    "    plt.scatter(\n",
    "        normalize(data[var], \"oneone\"),\n",
    "        normalize(data_kalman_states[\"latent\"].isel(kalman_iteration=-1), \"oneone\"),\n",
    "        label=var,\n",
    "    )"
   ]
  },
  {
   "cell_type": "markdown",
   "metadata": {},
   "source": [
    "## Power Spectral Density"
   ]
  },
  {
   "cell_type": "code",
   "execution_count": null,
   "metadata": {},
   "outputs": [],
   "source": [
    "fs = 12\n",
    "welch_window_width = 150  # years\n",
    "nperseg = len(data.time)\n",
    "years = nperseg / fs"
   ]
  },
  {
   "cell_type": "code",
   "execution_count": null,
   "metadata": {},
   "outputs": [],
   "source": [
    "# Compute PSD with frequency in year**{-1}\n",
    "# Set up welch_kwargs to use NO welch method.\n",
    "welch_kwargs = dict(\n",
    "    fs=fs,  # period is 1/12 y -> fs = 12 y^{-1}\n",
    "    nperseg=nperseg,  # length in timesteps\n",
    "    scaling=\"density\",\n",
    "    window=\"boxcar\",\n",
    ")\n",
    "\n",
    "psd_data = xarray_dataset_welch(data, dim=\"time\", welch_kwargs=welch_kwargs)\n",
    "psd_data_kalman = xarray_dataset_welch(\n",
    "    data_kalman_states, dim=\"time\", welch_kwargs=welch_kwargs\n",
    ")"
   ]
  },
  {
   "cell_type": "code",
   "execution_count": null,
   "metadata": {},
   "outputs": [],
   "source": [
    "fig, ax = plt.subplots(nrows=1, ncols=1, layout=\"constrained\", sharex=True, sharey=True)\n",
    "kwargs = dict(\n",
    "    linestyle=\"-\",\n",
    "    linewidth=\"1\",\n",
    "    marker=\".\",\n",
    ")\n",
    "\n",
    "ax.set_title(\"Observations\")\n",
    "\n",
    "# ------------------\n",
    "# plot Sponge\n",
    "# ------------------\n",
    "var = \"AMO\"\n",
    "(psd_AMO,) = ax.loglog(\n",
    "    psd_data.frequency,\n",
    "    psd_data[var],\n",
    "    label=var,\n",
    "    color=adjust_lightness(variables_color[var], lightness_0),\n",
    "    alpha=0.75,\n",
    ")\n",
    "var = \"NAO\"\n",
    "(psd_NAO,) = ax.loglog(\n",
    "    psd_data.frequency,\n",
    "    psd_data[var],\n",
    "    label=var,\n",
    "    color=adjust_lightness(variables_color[var], lightness_0),\n",
    "    alpha=0.75,\n",
    ")\n",
    "var = \"latent\"\n",
    "(psd_latent,) = ax.loglog(\n",
    "    psd_data_kalman.frequency,\n",
    "    psd_data_kalman[var].isel(kalman_iteration=0),\n",
    "    label=var,\n",
    "    color=adjust_lightness(variables_color[var], lightness_0),\n",
    ")\n",
    "\n",
    "\n",
    "ax.legend(\n",
    "    ncols=2,\n",
    "    loc=\"lower left\",\n",
    "    handlelength=1,\n",
    "    labelspacing=0.01,\n",
    "    handletextpad=0.15,\n",
    "    columnspacing=0.2,\n",
    ")\n",
    "\n",
    "ax.set_ylim(ymin=10 ** (-7), ymax=10 ** (4))\n",
    "# fig.suptitle(\n",
    "#     f\"Power Density Spectrum of Latent variable, Observations and hidden Component\"\n",
    "# )\n",
    "ax.set_ylabel(r\"PSD $K^{2}y^{-1}$\")\n",
    "\n",
    "ax.set_xlabel(r\"$f$ in $y^{-1}$\")\n",
    "ax.grid()\n",
    "\n",
    "\n",
    "def init_lines():\n",
    "    psd_latent.set_ydata(psd_data[\"latent\"])\n",
    "    return (psd_latent,)\n",
    "\n",
    "\n",
    "def update_lines(\n",
    "    idx,\n",
    "):\n",
    "    if idx == 0:\n",
    "        psd_latent.set_ydata(psd_data[\"latent\"])\n",
    "    else:\n",
    "        idx -= 1\n",
    "        psd_latent.set_ydata(psd_data_kalman[\"latent\"].isel(kalman_iteration=idx))\n",
    "    return (psd_latent,)\n",
    "\n",
    "\n",
    "init_lines()\n",
    "update_lines(40)\n",
    "\n",
    "ani_PSD = animation.FuncAnimation(\n",
    "    fig,\n",
    "    update_lines,\n",
    "    init_func=init_lines,\n",
    "    save_count=nb_iter_SEM + 1,\n",
    "    interval=200,\n",
    "    blit=True,\n",
    ")\n",
    "from IPython.display import HTML\n",
    "\n",
    "HTML(ani_PSD.to_html5_video())\n",
    "# ani_PSD\n",
    "# # # To save the animation using Pillow as a gif\n",
    "# writer = animation.FFMpegWriter(\n",
    "#     fps=1.5,\n",
    "#     metadata=dict(artist='Me'),\n",
    "#     bitrate=-1,\n",
    "# )\n",
    "# ani_PSD.save(results_path / 'PSD_evolution.mp4', writer=writer, dpi = 256)"
   ]
  },
  {
   "cell_type": "code",
   "execution_count": null,
   "metadata": {},
   "outputs": [],
   "source": []
  }
 ],
 "metadata": {
  "kernelspec": {
   "display_name": "climNum",
   "language": "python",
   "name": "python3"
  },
  "language_info": {
   "codemirror_mode": {
    "name": "ipython",
    "version": 3
   },
   "file_extension": ".py",
   "mimetype": "text/x-python",
   "name": "python",
   "nbconvert_exporter": "python",
   "pygments_lexer": "ipython3",
   "version": "3.10.9"
  }
 },
 "nbformat": 4,
 "nbformat_minor": 2
}
