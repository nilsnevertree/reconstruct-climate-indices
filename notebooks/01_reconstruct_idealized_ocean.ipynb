{
 "cells": [
  {
   "cell_type": "code",
   "execution_count": null,
   "metadata": {},
   "outputs": [],
   "source": [
    "from pathlib import Path\n",
    "import numpy as np\n",
    "import xarray as xr\n",
    "\n",
    "import matplotlib.pyplot as plt\n",
    "from kalman_reconstruction.kalman import (\n",
    "    Kalman_SEM,\n",
    ")"
   ]
  },
  {
   "cell_type": "code",
   "execution_count": null,
   "metadata": {},
   "outputs": [],
   "source": [
    "PATH_FIGURES = Path(\"../results/figures/idealized_ocean\")\n",
    "SAVE_FIGURES = True\n",
    "\n",
    "\n",
    "def save_fig(fig, relative_path, **kwargs):\n",
    "    if SAVE_FIGURES:\n",
    "        fig.savefig(PATH_FIGURES / relative_path, **kwargs)\n",
    "    else:\n",
    "        pass"
   ]
  },
  {
   "cell_type": "code",
   "execution_count": null,
   "metadata": {},
   "outputs": [],
   "source": [
    "plt.rcParams[\"figure.figsize\"] = (10, 8)\n",
    "# Set default matplotlib style\n",
    "MEDIUM_SIZE = 12\n",
    "BIGGER_SIZE = 15\n",
    "plt.style.use(\"seaborn-v0_8-whitegrid\")\n",
    "# plt.style.use('dark_background')\n",
    "\n",
    "plt.rcParams[\"figure.figsize\"] = (10.0, 6.0)\n",
    "plt.rc(\"font\", size=MEDIUM_SIZE)  # controls default text sizes\n",
    "plt.rc(\"axes\", titlesize=BIGGER_SIZE)  # fontsize of the axes title\n",
    "plt.rc(\"axes\", labelsize=MEDIUM_SIZE)  # fontsize of the x and y labels\n",
    "plt.rc(\n",
    "    \"axes.spines\",\n",
    "    **dict(\n",
    "        left=True,\n",
    "        right=False,\n",
    "        bottom=True,\n",
    "        top=False,\n",
    "    )\n",
    ")\n",
    "# fontsize of the x and y labels\n",
    "plt.rc(\"xtick\", labelsize=MEDIUM_SIZE)  # fontsize of the tick labels\n",
    "plt.rc(\"ytick\", labelsize=MEDIUM_SIZE)  # fontsize of the tick labels\n",
    "plt.rc(\"legend\", fontsize=MEDIUM_SIZE)  # legend fontsize\n",
    "plt.rc(\"figure\", titlesize=BIGGER_SIZE)  # fontsize of the figure title\n",
    "plt.rc(\"legend\", loc=\"upper right\")\n",
    "# use colorblind save colors https://davidmathlogic.com/colorblind\n",
    "colors = [\n",
    "    \"#CC6677\",\n",
    "    \"#6E9CB3\",\n",
    "    \"#CA8727\",\n",
    "    \"#44AA99\",\n",
    "    \"#AA4499\",\n",
    "    \"#D6BE49\",\n",
    "    \"#A494F5\",\n",
    "]\n",
    "plt.rcParams[\"axes.prop_cycle\"] = plt.cycler(color=colors)\n",
    "\n",
    "\n",
    "def plot_colors(colors):\n",
    "    fig, axs = plt.subplots(figsize=(5, 1))\n",
    "    for idx, color in enumerate(colors):\n",
    "        axs.scatter(idx, 1, c=color, s=300)\n",
    "\n",
    "    axs.set_yticks([])\n",
    "    return fig, axs"
   ]
  },
  {
   "attachments": {},
   "cell_type": "markdown",
   "metadata": {},
   "source": [
    "## Idealized ocean - reconstruct hidden component\n",
    "\n",
    "The idea is to use two simplified ocean models:\n",
    "1. \"Sponge\" Ocean which is only made up of a single layer which has a restoring timescale.\n",
    "2. \"Oscillator\" Ocean which is made up of two layer (surface and deep ocean) which have an oscillation timescale.\n",
    "\n",
    "The idea is to use the Methodology of retrieving hidden compontents in a Dynamical system to idemtify if hidden components exist.\n",
    "\n",
    "**Experiment Set-Up**\n",
    "1. Use *Surface Air Temperature* and *Sponge Sea Surface Temperature* in the Algorithm.\n",
    "2. Use an additional random initialized component *$z_1$* in the Algorithm.\n",
    "\n",
    "Different models:\n",
    "1. *Sponge ocean*: Use *Surface Air Temperature* and *Sponge Sea Surface Temperature* in the Algorithm. Validate if the retireved component *$z_1$* gives any improvements.\n",
    "2. *Sponge ocean*: Use *Surface Air Temperature* and *Oscillator Sea Surface Temperature* in the Algorithm. Do not use *Oscillator Deep Ocean Temperature*. Validate if the retireved component *$z_1$* is connected to hidden components.\n",
    "\n"
   ]
  },
  {
   "attachments": {},
   "cell_type": "markdown",
   "metadata": {},
   "source": [
    "### Load data from netcdf file"
   ]
  },
  {
   "cell_type": "code",
   "execution_count": null,
   "metadata": {},
   "outputs": [],
   "source": [
    "data = xr.open_dataset(\"..//data/idealized_ocean_model.nc\")\n",
    "data = data.drop(\"sea_surface_temperature\")\n",
    "for var in [\"sponge_sea_surface_temperature\", \"oscillator_sea_surface_temperature\"]:\n",
    "    data[var].plot(x=\"time_years\", label=var)\n",
    "plt.legend()"
   ]
  },
  {
   "cell_type": "code",
   "execution_count": null,
   "metadata": {},
   "outputs": [],
   "source": [
    "def dataset_variables_to_array(ds, variables=[\"sea_surface_temperature\"]):\n",
    "    result = []\n",
    "    for var in variables:\n",
    "        if var not in ds.variables:\n",
    "            raise KeyError(f\"Variable '{var}' is not a key of the provided DatasSet.\")\n",
    "        result.append(ds[var])\n",
    "\n",
    "    # check that all array have the same length\n",
    "    it = iter(result)\n",
    "    first_length = len(next(it))\n",
    "    if not all(len(l) == first_length for l in it):\n",
    "        raise ValueError(\"not all lists have same length!\")\n",
    "\n",
    "    # return a numpy array from this\n",
    "    return np.array(result).swapaxes(0, 1)"
   ]
  },
  {
   "attachments": {},
   "cell_type": "markdown",
   "metadata": {},
   "source": [
    "## Time independent reconstruction"
   ]
  },
  {
   "attachments": {},
   "cell_type": "markdown",
   "metadata": {},
   "source": [
    "### Important parameters"
   ]
  },
  {
   "cell_type": "code",
   "execution_count": null,
   "metadata": {},
   "outputs": [],
   "source": [
    "# index of the unobserved component\n",
    "i_unobs_comp = 0\n",
    "\n",
    "# variance of the random white noise of z\n",
    "variance_unobs_comp = 1\n",
    "\n",
    "# variance of the observation error used in Kalman\n",
    "variance_obs_comp = 0.0001\n",
    "\n",
    "# number of SEM iterations\n",
    "nb_iter_SEM = 30"
   ]
  },
  {
   "attachments": {},
   "cell_type": "markdown",
   "metadata": {},
   "source": [
    "## Use the Sponge ocean"
   ]
  },
  {
   "attachments": {},
   "cell_type": "markdown",
   "metadata": {},
   "source": [
    "#### Only using the known variables"
   ]
  },
  {
   "cell_type": "code",
   "execution_count": null,
   "metadata": {},
   "outputs": [],
   "source": [
    "# state\n",
    "variables = [\"surface_air_temperature\", \"sponge_sea_surface_temperature\"]\n",
    "state_array_true = dataset_variables_to_array(data, variables=variables)\n",
    "time = data.time_years"
   ]
  },
  {
   "cell_type": "code",
   "execution_count": null,
   "metadata": {},
   "outputs": [],
   "source": [
    "# state\n",
    "y = state_array_true.copy()\n",
    "z = np.random.normal(loc=0, scale=variance_unobs_comp, size=np.shape(y)[0])\n",
    "x = y.copy()\n",
    "\n",
    "tab_labels = variables.copy()\n",
    "\n",
    "# shapes\n",
    "n = np.shape(x)[1]\n",
    "p = np.shape(y)[1]\n",
    "\n",
    "# colors and labels of the components\n",
    "# plot the components\n",
    "fig, axs = plt.subplots(nrows=1, ncols=1)\n",
    "for idx in range(n):\n",
    "    axs.plot(time, state_array_true[:, idx], label=tab_labels[idx])\n",
    "axs.set_xlabel(\"years\")\n",
    "axs.set_ylabel(\"Temperature in K\")\n",
    "axs.legend(loc=1)\n",
    "axs.set_title(\"Sponge Ocean Observed components\")\n",
    "fig.tight_layout()\n",
    "save_fig(fig, \"sponge-observed\")"
   ]
  },
  {
   "cell_type": "code",
   "execution_count": null,
   "metadata": {},
   "outputs": [],
   "source": [
    "# kalman parameters\n",
    "H = np.eye(n)\n",
    "R = variance_obs_comp * np.eye(p)\n",
    "\n",
    "# stochastic EM\n",
    "# x_s_V0, P_s_V0, M_V0, loglik_V0, x, x_f_V0, Q_V0 = Kalman_SEM(x, y, H, R, nb_iter_SEM)\n",
    "\n",
    "x_s_V0, P_s_V0, M_V0, loglik_V0, x, x_f_V0, Q_V0 = Kalman_SEM(x, y, H, R, nb_iter_SEM)"
   ]
  },
  {
   "cell_type": "code",
   "execution_count": null,
   "metadata": {},
   "outputs": [],
   "source": [
    "fig, axs = plt.subplots(1, 1)\n",
    "for i in range(n):\n",
    "    axs.plot(time, x_s_V0[:, i], color=colors[i], label=tab_labels[i])\n",
    "    axs.fill_between(\n",
    "        time,\n",
    "        x_s_V0[:, i] - 1.96 * np.sqrt(P_s_V0[:, i, i]),\n",
    "        x_s_V0[:, i] + 1.96 * np.sqrt(P_s_V0[:, i, i]),\n",
    "        facecolor=colors[i],\n",
    "        alpha=0.30,\n",
    "    )\n",
    "axs.set_xlabel(\"years\")\n",
    "axs.set_ylabel(\"Temperature in K\")\n",
    "axs.legend(loc=1)\n",
    "axs.set_title(\"Sponge Ocean Kalman result\")\n",
    "fig.tight_layout()\n",
    "save_fig(fig, \"sponge-kalman\")"
   ]
  },
  {
   "cell_type": "code",
   "execution_count": null,
   "metadata": {},
   "outputs": [],
   "source": [
    "kwargs = dict(\n",
    "    linewidth=1,\n",
    "    alpha=0.3,\n",
    "    marker=\".\",\n",
    ")\n",
    "fig, axs = plt.subplots(ncols=2, nrows=2)\n",
    "for idx, var in enumerate(variables):\n",
    "    data_range = np.max(data[var]) - np.min(data[var])\n",
    "    axs[idx][0].plot(data[var], x_s_V0[:, idx], **kwargs)\n",
    "    axs[idx][0].scatter(data[var], x_s_V0[:, idx], **kwargs)\n",
    "    axs[idx][1].plot(time[5:], (data[var] - x_s_V0[:, idx])[5:], **kwargs)\n",
    "    # set titles\n",
    "    axs[idx][0].set_title(f\"{var}\")\n",
    "    axs[idx][1].set_title(f\"{var}\")\n",
    "    # set labels\n",
    "    axs[idx][0].set_xlabel(\"truth\")\n",
    "    axs[idx][0].set_ylabel(\"reconstruction\")\n",
    "    axs[idx][1].set_xlabel(\"time\")\n",
    "    axs[idx][1].set_ylabel(\"difference\")\n",
    "\n",
    "fig.tight_layout()\n",
    "save_fig(fig, \"sponge-correlation\")"
   ]
  },
  {
   "attachments": {},
   "cell_type": "markdown",
   "metadata": {},
   "source": [
    "### Introducing random variable $z_1$"
   ]
  },
  {
   "cell_type": "code",
   "execution_count": null,
   "metadata": {},
   "outputs": [],
   "source": [
    "tab_labels = list(variables)\n",
    "tab_labels.append(r\"$z_1 $ = Random$(\\mathcal{N}(0,\\sigma^2))$\")\n",
    "\n",
    "# state\n",
    "y = state_array_true.copy()\n",
    "z = np.random.normal(loc=0, scale=variance_unobs_comp, size=np.shape(y)[0])\n",
    "x = np.array([y[:, 0], y[:, 1], z]).T\n",
    "\n",
    "# shapes\n",
    "n = np.shape(x)[1]\n",
    "p = np.shape(y)[1]"
   ]
  },
  {
   "cell_type": "code",
   "execution_count": null,
   "metadata": {},
   "outputs": [],
   "source": [
    "fig, axs = plt.subplots(1, 1)\n",
    "for i in range(n):\n",
    "    axs.plot(time, x[:, i], color=colors[i], label=tab_labels[i])\n",
    "axs.legend(loc=1)\n",
    "axs.set_xlabel(\"years\")\n",
    "axs.set_ylabel(\"Temperature in K\")\n",
    "axs.legend(loc=1)\n",
    "axs.set_title(r\"Sponge Ocean include $z_1$\")\n",
    "fig.tight_layout()\n",
    "save_fig(fig, \"sponge-z1-observations\")"
   ]
  },
  {
   "cell_type": "code",
   "execution_count": null,
   "metadata": {},
   "outputs": [],
   "source": [
    "# kalman parameters\n",
    "H = np.delete(np.eye(n), 2, axis=0)\n",
    "R = variance_obs_comp * np.eye(p)\n",
    "\n",
    "# stochastic EM\n",
    "x_s_V1, P_s_V1, M_V1, loglik_V1, x, x_f_V1, Q_V1 = Kalman_SEM(x, y, H, R, nb_iter_SEM)"
   ]
  },
  {
   "cell_type": "code",
   "execution_count": null,
   "metadata": {},
   "outputs": [],
   "source": [
    "fig, axs = plt.subplots(1, 1)\n",
    "for i in range(n):\n",
    "    axs.plot(time, x_s_V1[:, i], color=colors[i], label=tab_labels[i])\n",
    "    axs.fill_between(\n",
    "        time,\n",
    "        x_s_V1[:, i] - 1.96 * np.sqrt(P_s_V1[:, i, i]),\n",
    "        x_s_V1[:, i] + 1.96 * np.sqrt(P_s_V1[:, i, i]),\n",
    "        facecolor=colors[i],\n",
    "        alpha=0.30,\n",
    "    )\n",
    "\n",
    "axs.legend(loc=1)\n",
    "axs.set_xlabel(\"years\")\n",
    "axs.set_ylabel(\"Temperature in K\")\n",
    "axs.legend(loc=1)\n",
    "axs.set_title(r\"Sponge Ocean include $z_1$ kalman results\")\n",
    "fig.tight_layout()\n",
    "save_fig(fig, \"sponge-z1-kalman\")"
   ]
  },
  {
   "cell_type": "code",
   "execution_count": null,
   "metadata": {},
   "outputs": [],
   "source": [
    "kwargs = dict(\n",
    "    linewidth=1,\n",
    "    alpha=0.3,\n",
    "    marker=\".\",\n",
    ")\n",
    "fig, axs = plt.subplots(ncols=2, nrows=2)\n",
    "for idx, var in enumerate(variables):\n",
    "    data_range = np.max(data[var]) - np.min(data[var])\n",
    "    axs[idx][0].plot(data[var], x_s_V0[:, idx], **kwargs)\n",
    "    axs[idx][0].scatter(data[var], x_s_V0[:, idx], **kwargs)\n",
    "    axs[idx][0].set_title(f\"{var}\")\n",
    "    axs[idx][1].plot(time[5:], (data[var] - x_s_V0[:, idx])[5:], **kwargs)\n",
    "    axs[idx][1].set_title(f\"{var}\")\n",
    "\n",
    "    # set labels\n",
    "    axs[idx][0].set_xlabel(\"truth\")\n",
    "    axs[idx][0].set_ylabel(\"reconstruction\")\n",
    "    axs[idx][1].set_xlabel(\"time\")\n",
    "    axs[idx][1].set_ylabel(\"difference\")\n",
    "\n",
    "\n",
    "fig.suptitle(r\"Sponge Ocean include $z_1$ kalman results\")\n",
    "fig.tight_layout()\n",
    "save_fig(fig, \"sponge-z1-correlation\")"
   ]
  },
  {
   "attachments": {},
   "cell_type": "markdown",
   "metadata": {},
   "source": [
    "## Use the Ossilator ocean"
   ]
  },
  {
   "cell_type": "code",
   "execution_count": null,
   "metadata": {},
   "outputs": [],
   "source": [
    "# state\n",
    "variables = [\"surface_air_temperature\", \"oscillator_sea_surface_temperature\"]\n",
    "state_array_true = dataset_variables_to_array(data, variables=variables)\n",
    "time = data.time_years"
   ]
  },
  {
   "cell_type": "code",
   "execution_count": null,
   "metadata": {},
   "outputs": [],
   "source": [
    "# state\n",
    "y = state_array_true.copy()\n",
    "z = np.random.normal(loc=0, scale=variance_unobs_comp, size=np.shape(y)[0])\n",
    "x = y.copy()\n",
    "\n",
    "tab_labels = variables.copy()\n",
    "\n",
    "# shapes\n",
    "n = np.shape(x)[1]\n",
    "p = np.shape(y)[1]\n",
    "\n",
    "# colors and labels of the components\n",
    "# plot the components\n",
    "fig, axs = plt.subplots(1, 1)\n",
    "for idx in range(n):\n",
    "    axs.plot(time, state_array_true[:, idx], label=tab_labels[idx])\n",
    "axs.set_xlabel(\"years\")\n",
    "axs.set_ylabel(\"Temperature in K\")\n",
    "axs.legend(loc=1)\n",
    "axs.set_title(\"Ossilator ocean observed components\")\n",
    "\n",
    "\n",
    "fig.tight_layout()\n",
    "save_fig(fig, \"oscillator-observations-observations\")"
   ]
  },
  {
   "cell_type": "code",
   "execution_count": null,
   "metadata": {},
   "outputs": [],
   "source": [
    "# kalman parameters\n",
    "H = np.eye(n)\n",
    "R = variance_obs_comp * np.eye(p)\n",
    "\n",
    "# stochastic EM\n",
    "# x_s_V0, P_s_V0, M_V0, loglik_V0, x, x_f_V0, Q_V0 = Kalman_SEM(x, y, H, R, nb_iter_SEM)\n",
    "\n",
    "x_s_V0, P_s_V0, M_V0, loglik_V0, x, x_f_V0, Q_V0 = Kalman_SEM(x, y, H, R, nb_iter_SEM)"
   ]
  },
  {
   "cell_type": "code",
   "execution_count": null,
   "metadata": {},
   "outputs": [],
   "source": [
    "fig, axs = plt.subplots(1, 1)\n",
    "for i in range(n):\n",
    "    axs.plot(time, x_s_V0[:, i], color=colors[i], label=tab_labels[i])\n",
    "    axs.fill_between(\n",
    "        time,\n",
    "        x_s_V0[:, i] - 1.96 * np.sqrt(P_s_V0[:, i, i]),\n",
    "        x_s_V0[:, i] + 1.96 * np.sqrt(P_s_V0[:, i, i]),\n",
    "        facecolor=colors[i],\n",
    "        alpha=0.30,\n",
    "    )\n",
    "\n",
    "axs.set_xlabel(\"years\")\n",
    "axs.set_ylabel(\"Temperature in K\")\n",
    "axs.legend(loc=1)\n",
    "axs.set_title(\"Ossilator ocean kalman results\")\n",
    "\n",
    "\n",
    "fig.tight_layout()\n",
    "save_fig(fig, \"oscillator-kalman\")"
   ]
  },
  {
   "cell_type": "code",
   "execution_count": null,
   "metadata": {},
   "outputs": [],
   "source": [
    "kwargs = dict(\n",
    "    linewidth=1,\n",
    "    alpha=0.3,\n",
    "    marker=\".\",\n",
    ")\n",
    "fig, axs = plt.subplots(ncols=2, nrows=2)\n",
    "for idx, var in enumerate(variables):\n",
    "    data_range = np.max(data[var]) - np.min(data[var])\n",
    "    axs[idx][0].plot(data[var], x_s_V0[:, idx], **kwargs)\n",
    "    axs[idx][0].scatter(data[var], x_s_V0[:, idx], **kwargs)\n",
    "    axs[idx][0].set_title(f\"{var}\")\n",
    "    axs[idx][1].plot(time[5:], (data[var] - x_s_V0[:, idx])[5:], **kwargs)\n",
    "    axs[idx][1].set_title(f\"{var}\")\n",
    "\n",
    "    # set labels\n",
    "    axs[idx][0].set_xlabel(\"truth\")\n",
    "    axs[idx][0].set_ylabel(\"reconstruction\")\n",
    "    axs[idx][1].set_xlabel(\"time\")\n",
    "    axs[idx][1].set_ylabel(\"difference\")\n",
    "\n",
    "fig.suptitle(r\"Oscilltor Ocean correlation\")\n",
    "fig.tight_layout()\n",
    "save_fig(fig, \"oscillator-correlation\")"
   ]
  },
  {
   "attachments": {},
   "cell_type": "markdown",
   "metadata": {},
   "source": [
    "### Introducing random variable $z_1$"
   ]
  },
  {
   "cell_type": "code",
   "execution_count": null,
   "metadata": {},
   "outputs": [],
   "source": [
    "tab_labels = list(variables)\n",
    "tab_labels.append(r\"$z_1$ = Random $(\\mathcal{N}(0,\\sigma^2))$\")\n",
    "\n",
    "# state\n",
    "y = state_array_true.copy()\n",
    "z = np.random.normal(loc=y.mean(), scale=variance_unobs_comp, size=np.shape(y)[0])\n",
    "x = np.array([y[:, 0], y[:, 1], z]).T\n",
    "\n",
    "# shapes\n",
    "n = np.shape(x)[1]\n",
    "p = np.shape(y)[1]"
   ]
  },
  {
   "cell_type": "code",
   "execution_count": null,
   "metadata": {},
   "outputs": [],
   "source": [
    "fig, axs = plt.subplots(1, 1)\n",
    "for i in range(n):\n",
    "    axs.plot(time, x[:, i], color=colors[i], label=tab_labels[i])\n",
    "axs.legend(loc=1)\n",
    "axs.set_xlabel(\"years\")\n",
    "axs.set_ylabel(\"Temperature in K\")\n",
    "axs.set_title(r\"Oscillator Ocean include $z_1$\")\n",
    "fig.tight_layout()\n",
    "save_fig(fig, \"oscillator-z1-observations\")"
   ]
  },
  {
   "cell_type": "code",
   "execution_count": null,
   "metadata": {},
   "outputs": [],
   "source": [
    "# kalman parameters\n",
    "H = np.delete(np.eye(n), 2, axis=0)\n",
    "R = variance_obs_comp * np.eye(p)\n",
    "\n",
    "# stochastic EM\n",
    "x_s_V1, P_s_V1, M_V1, loglik_V1, x, x_f_V1, Q_V1 = Kalman_SEM(x, y, H, R, nb_iter_SEM)"
   ]
  },
  {
   "cell_type": "code",
   "execution_count": null,
   "metadata": {},
   "outputs": [],
   "source": [
    "fig, axs = plt.subplots(1, 1)\n",
    "for i in range(n):\n",
    "    plt.plot(time, x_s_V1[:, i], color=colors[i], label=tab_labels[i])\n",
    "    plt.fill_between(\n",
    "        time,\n",
    "        x_s_V1[:, i] - 1.96 * np.sqrt(P_s_V1[:, i, i]),\n",
    "        x_s_V1[:, i] + 1.96 * np.sqrt(P_s_V1[:, i, i]),\n",
    "        facecolor=colors[i],\n",
    "        alpha=0.30,\n",
    "    )\n",
    "\n",
    "axs.legend(loc=1)\n",
    "axs.set_xlabel(\"years\")\n",
    "axs.set_ylabel(\"Temperature in K\")\n",
    "axs.legend(loc=1)\n",
    "axs.set_title(r\"Oscillator Ocean include $z_1$ kalman results\")\n",
    "fig.tight_layout()\n",
    "save_fig(fig, \"oscillator-z1-kalman\")"
   ]
  },
  {
   "cell_type": "code",
   "execution_count": null,
   "metadata": {},
   "outputs": [],
   "source": [
    "fig, axs = plt.subplots(1, 1)\n",
    "for i in [n - 1]:\n",
    "    axs.plot(time, x_s_V1[:, i], color=colors[n - 1], label=tab_labels[i])\n",
    "    axs.fill_between(\n",
    "        time,\n",
    "        x_s_V1[:, i] - 1.96 * np.sqrt(P_s_V1[:, i, i]),\n",
    "        x_s_V1[:, i] + 1.96 * np.sqrt(P_s_V1[:, i, i]),\n",
    "        facecolor=colors[i],\n",
    "        alpha=0.30,\n",
    "    )\n",
    "axs.plot(\n",
    "    time,\n",
    "    data.oscillator_deep_ocean_temperature,\n",
    "    label=\"oscillator_deep_ocean_temperature\",\n",
    "    color=colors[n],\n",
    ")\n",
    "axs.legend()\n",
    "axs.legend(loc=1)\n",
    "axs.set_xlabel(\"years\")\n",
    "axs.set_ylabel(\"Temperature in K\")\n",
    "\n",
    "fig.suptitle(\n",
    "    r\"Oscilltor Ocean include $z_1$\"\n",
    "    + \"\\nCompare Deep Ocean Temperature and $z_1$ kalman results\"\n",
    ")\n",
    "fig.tight_layout()\n",
    "save_fig(fig, \"oscilltor-z1-comparison\")"
   ]
  },
  {
   "cell_type": "code",
   "execution_count": null,
   "metadata": {},
   "outputs": [],
   "source": [
    "kwargs = dict(\n",
    "    linewidth=None,\n",
    "    alpha=0.3,\n",
    "    marker=\".\",\n",
    ")\n",
    "\n",
    "vars_compare = list(variables) + [\"oscillator_deep_ocean_temperature\"]\n",
    "\n",
    "fig, axs = plt.subplots(ncols=2, nrows=3, figsize=(10, 8))\n",
    "for idx, var in enumerate(vars_compare):\n",
    "    data_range = np.max(data[var]) - np.min(data[var])\n",
    "    axs[idx][0].plot(data[var], x_s_V1[:, idx], **kwargs)\n",
    "    axs[idx][0].set_title(f\"{var}\")\n",
    "    axs[idx][0].set_xlabel(\"truth\")\n",
    "    axs[idx][0].set_ylabel(\"reconstruction\")\n",
    "\n",
    "    axs[idx][1].plot(time[5:], (data[var] - x_s_V1[:, idx])[5:], **kwargs)\n",
    "    axs[idx][1].set_title(f\"{var}\")\n",
    "    axs[idx][1].set_xlabel(\"time\")\n",
    "    axs[idx][1].set_ylabel(\"difference\")\n",
    "\n",
    "\n",
    "fig.suptitle(r\"Oscilltor Ocean include $z_1$ correlation\")\n",
    "fig.tight_layout()\n",
    "save_fig(fig, \"oscilltor-z1-correlation\")"
   ]
  }
 ],
 "metadata": {
  "anaconda-cloud": {},
  "kernelspec": {
   "display_name": "Python 3",
   "language": "python",
   "name": "python3"
  },
  "language_info": {
   "codemirror_mode": {
    "name": "ipython",
    "version": 3
   },
   "file_extension": ".py",
   "mimetype": "text/x-python",
   "name": "python",
   "nbconvert_exporter": "python",
   "pygments_lexer": "ipython3",
   "version": "3.10.9"
  },
  "nbpresent": {
   "slides": {
    "1d42f838-0c49-4169-ace3-6cbe2ef3bcb8": {
     "id": "1d42f838-0c49-4169-ace3-6cbe2ef3bcb8",
     "prev": "a79bbd87-5da4-453d-b024-19a2123d05bd",
     "regions": {
      "1265fdae-ba33-4f63-bb1b-066a18e00ea9": {
       "attrs": {
        "height": 0.8,
        "width": 0.8,
        "x": 0.1,
        "y": 0.1
       },
       "content": {
        "cell": "d1760a5b-8d30-43df-87d2-fa83c3bd6553",
        "part": "whole"
       },
       "id": "1265fdae-ba33-4f63-bb1b-066a18e00ea9"
      }
     }
    },
    "2ced89bd-2571-4751-aebc-f597ccefbe76": {
     "id": "2ced89bd-2571-4751-aebc-f597ccefbe76",
     "prev": "add23d58-b14d-49d8-b2aa-577f38d2e1e2",
     "regions": {
      "17b915d1-242d-4df1-82e2-63084727c865": {
       "attrs": {
        "height": 0.8,
        "width": 0.8,
        "x": 0.1,
        "y": 0.1
       },
       "content": {
        "cell": "3c8d57d0-c7b5-4ec6-9ecb-d91aaffbf836",
        "part": "whole"
       },
       "id": "17b915d1-242d-4df1-82e2-63084727c865"
      }
     }
    },
    "336153f3-0ab5-44bc-a573-edaf69c0b238": {
     "id": "336153f3-0ab5-44bc-a573-edaf69c0b238",
     "prev": "42177add-a63c-4114-b63f-3ddf964ef110",
     "regions": {
      "ba96f47c-67a0-4f8e-8aa5-df9e5aaacc1f": {
       "attrs": {
        "height": 0.8,
        "width": 0.8,
        "x": 0.1,
        "y": 0.1
       },
       "content": {
        "cell": "837aa478-c139-42fb-9609-b0a98c79fae1",
        "part": "whole"
       },
       "id": "ba96f47c-67a0-4f8e-8aa5-df9e5aaacc1f"
      }
     }
    },
    "42177add-a63c-4114-b63f-3ddf964ef110": {
     "id": "42177add-a63c-4114-b63f-3ddf964ef110",
     "prev": "724df457-c17c-4540-b34c-7bef5cb716ca",
     "regions": {
      "54f1cdca-2aa4-4698-8246-2a1c5e145547": {
       "attrs": {
        "height": 0.8,
        "width": 0.8,
        "x": 0.1,
        "y": 0.1
       },
       "content": {
        "cell": "241f9ce2-fe11-4533-be8f-991a700f3920",
        "part": "whole"
       },
       "id": "54f1cdca-2aa4-4698-8246-2a1c5e145547"
      }
     }
    },
    "5828c160-102d-4b0b-a02e-a1347935177e": {
     "id": "5828c160-102d-4b0b-a02e-a1347935177e",
     "prev": "aa2c9167-4c71-4984-8932-50f07ece09ee",
     "regions": {
      "844a550a-1b12-4ed5-996d-bdc5c6673cfb": {
       "attrs": {
        "height": 0.8,
        "width": 0.8,
        "x": 0.1,
        "y": 0.1
       },
       "content": {
        "cell": "150c861c-fecc-4dfc-8bb7-c54189d675cb",
        "part": "whole"
       },
       "id": "844a550a-1b12-4ed5-996d-bdc5c6673cfb"
      }
     }
    },
    "67ee6b5b-5315-44b8-ae26-5f1cd7459cdf": {
     "id": "67ee6b5b-5315-44b8-ae26-5f1cd7459cdf",
     "prev": "78cfb209-fb42-41a3-9b67-2d8976535bfd",
     "regions": {
      "69ee6591-33f8-486f-abd2-80b224924624": {
       "attrs": {
        "height": 0.8,
        "width": 0.8,
        "x": 0.1,
        "y": 0.1
       },
       "content": {
        "cell": "f975dd20-65cf-43f8-8a6e-96f2acbad4e4",
        "part": "whole"
       },
       "id": "69ee6591-33f8-486f-abd2-80b224924624"
      }
     }
    },
    "724df457-c17c-4540-b34c-7bef5cb716ca": {
     "id": "724df457-c17c-4540-b34c-7bef5cb716ca",
     "prev": "9fe87c5b-707b-4b01-b745-e8ded89e9df3",
     "regions": {
      "240d4d84-1531-44fe-a100-4420357b11d5": {
       "attrs": {
        "height": 0.8,
        "width": 0.8,
        "x": 0.1,
        "y": 0.1
       },
       "content": {
        "cell": "81f56606-9081-47fd-8968-13d85c93063c",
        "part": "whole"
       },
       "id": "240d4d84-1531-44fe-a100-4420357b11d5"
      }
     }
    },
    "77584b6a-a79a-4c2a-9877-16ceb1f8abd0": {
     "id": "77584b6a-a79a-4c2a-9877-16ceb1f8abd0",
     "prev": "5828c160-102d-4b0b-a02e-a1347935177e",
     "regions": {
      "8c07716a-3ea3-46ee-9c54-ad6fc7312519": {
       "attrs": {
        "height": 0.8,
        "width": 0.8,
        "x": 0.1,
        "y": 0.1
       },
       "content": {
        "cell": "8150ad94-0ca4-4664-99f2-16b477d0a987",
        "part": "whole"
       },
       "id": "8c07716a-3ea3-46ee-9c54-ad6fc7312519"
      }
     }
    },
    "78cfb209-fb42-41a3-9b67-2d8976535bfd": {
     "id": "78cfb209-fb42-41a3-9b67-2d8976535bfd",
     "prev": "c903fa48-923d-4a62-9cb0-bb5947fd72fc",
     "regions": {
      "ccafd74d-69fc-4fee-a9d4-a08c42b93603": {
       "attrs": {
        "height": 0.8,
        "width": 0.8,
        "x": 0.1,
        "y": 0.1
       },
       "content": {
        "cell": "af657441-0912-4749-b537-6e1734f875bb",
        "part": "whole"
       },
       "id": "ccafd74d-69fc-4fee-a9d4-a08c42b93603"
      }
     }
    },
    "7adb904a-fb6f-4d67-94d8-4c711e07ac11": {
     "id": "7adb904a-fb6f-4d67-94d8-4c711e07ac11",
     "prev": "d17e8d89-9e35-46c9-b929-566d91fdb7f1",
     "regions": {
      "7ea089b6-47be-4579-9234-db684b9d36a5": {
       "attrs": {
        "height": 0.8,
        "width": 0.8,
        "x": 0.1,
        "y": 0.1
       },
       "content": {
        "cell": "c4e459e9-33bc-43f1-91e8-5a5d05746979",
        "part": "whole"
       },
       "id": "7ea089b6-47be-4579-9234-db684b9d36a5"
      }
     }
    },
    "9563799e-a48a-4472-be8d-4d8cd293d2ad": {
     "id": "9563799e-a48a-4472-be8d-4d8cd293d2ad",
     "prev": "f27ef294-a3b8-4e5c-9050-45addbe0b149",
     "regions": {
      "98b47946-ed94-4959-9d5f-02151a5ec080": {
       "attrs": {
        "height": 0.8,
        "width": 0.8,
        "x": 0.1,
        "y": 0.1
       },
       "content": {
        "cell": "7a6c203f-bcbb-4c52-8b85-7e6be3945044",
        "part": "whole"
       },
       "id": "98b47946-ed94-4959-9d5f-02151a5ec080"
      }
     }
    },
    "9fe87c5b-707b-4b01-b745-e8ded89e9df3": {
     "id": "9fe87c5b-707b-4b01-b745-e8ded89e9df3",
     "prev": "67ee6b5b-5315-44b8-ae26-5f1cd7459cdf",
     "regions": {
      "88a6792f-b8da-46f8-9d2f-4f7eb16621dd": {
       "attrs": {
        "height": 0.8,
        "width": 0.8,
        "x": 0.1,
        "y": 0.1
       },
       "content": {
        "cell": "702967c4-5161-4544-a9f1-88cd5d0155da",
        "part": "whole"
       },
       "id": "88a6792f-b8da-46f8-9d2f-4f7eb16621dd"
      }
     }
    },
    "a79bbd87-5da4-453d-b024-19a2123d05bd": {
     "id": "a79bbd87-5da4-453d-b024-19a2123d05bd",
     "prev": "7adb904a-fb6f-4d67-94d8-4c711e07ac11",
     "regions": {
      "4f5dad50-8402-438d-a99a-65f489665bcb": {
       "attrs": {
        "height": 0.8,
        "width": 0.8,
        "x": 0.1,
        "y": 0.1
       },
       "content": {
        "cell": "b00e2703-18c9-46e3-b935-dd07e82d80e5",
        "part": "whole"
       },
       "id": "4f5dad50-8402-438d-a99a-65f489665bcb"
      }
     }
    },
    "aa2c9167-4c71-4984-8932-50f07ece09ee": {
     "id": "aa2c9167-4c71-4984-8932-50f07ece09ee",
     "prev": "1d42f838-0c49-4169-ace3-6cbe2ef3bcb8",
     "regions": {
      "320b99ad-7a18-4224-a500-b94e65a48833": {
       "attrs": {
        "height": 0.8,
        "width": 0.8,
        "x": 0.1,
        "y": 0.1
       },
       "content": {
        "cell": "604a659e-82bf-4618-95bf-77ef755b9088",
        "part": "whole"
       },
       "id": "320b99ad-7a18-4224-a500-b94e65a48833"
      }
     }
    },
    "ad8135f7-ac79-4ac1-a610-10a935b49a98": {
     "id": "ad8135f7-ac79-4ac1-a610-10a935b49a98",
     "prev": "2ced89bd-2571-4751-aebc-f597ccefbe76",
     "regions": {
      "0e52e387-23f1-4ed3-9940-8c389e971206": {
       "attrs": {
        "height": 0.8,
        "width": 0.8,
        "x": 0.1,
        "y": 0.1
       },
       "content": {
        "cell": "8f5b99c6-6771-4a2f-8ff5-f6693d6b9916",
        "part": "whole"
       },
       "id": "0e52e387-23f1-4ed3-9940-8c389e971206"
      }
     }
    },
    "add23d58-b14d-49d8-b2aa-577f38d2e1e2": {
     "id": "add23d58-b14d-49d8-b2aa-577f38d2e1e2",
     "prev": "ee4674c1-f707-4364-8f98-920a3a4dccdd",
     "regions": {
      "4ff09800-dc8f-4d70-a6fa-122728d7b7ce": {
       "attrs": {
        "height": 0.8,
        "width": 0.8,
        "x": 0.1,
        "y": 0.1
       },
       "content": {
        "cell": "35f54171-6e87-4b0f-9cb2-821d9c0d8b96",
        "part": "whole"
       },
       "id": "4ff09800-dc8f-4d70-a6fa-122728d7b7ce"
      }
     }
    },
    "c903fa48-923d-4a62-9cb0-bb5947fd72fc": {
     "id": "c903fa48-923d-4a62-9cb0-bb5947fd72fc",
     "prev": null,
     "regions": {
      "9af22ce6-60f7-4b0f-b583-587632ca1c4d": {
       "attrs": {
        "height": 0.8,
        "width": 0.8,
        "x": 0.1,
        "y": 0.1
       },
       "content": {
        "cell": "76428090-b279-4d85-b5bc-e0fdefafc294",
        "part": "whole"
       },
       "id": "9af22ce6-60f7-4b0f-b583-587632ca1c4d"
      }
     }
    },
    "d17e8d89-9e35-46c9-b929-566d91fdb7f1": {
     "id": "d17e8d89-9e35-46c9-b929-566d91fdb7f1",
     "prev": "9563799e-a48a-4472-be8d-4d8cd293d2ad",
     "regions": {
      "8014a801-52b8-4b31-b0b3-57c09db3642a": {
       "attrs": {
        "height": 0.8,
        "width": 0.8,
        "x": 0.1,
        "y": 0.1
       },
       "content": {
        "cell": "971ff88b-e8dc-43dc-897e-71a7b6b659c0",
        "part": "whole"
       },
       "id": "8014a801-52b8-4b31-b0b3-57c09db3642a"
      }
     }
    },
    "ee4674c1-f707-4364-8f98-920a3a4dccdd": {
     "id": "ee4674c1-f707-4364-8f98-920a3a4dccdd",
     "prev": "77584b6a-a79a-4c2a-9877-16ceb1f8abd0",
     "regions": {
      "88808a64-d487-4a72-b74f-5b1db506cbec": {
       "attrs": {
        "height": 0.8,
        "width": 0.8,
        "x": 0.1,
        "y": 0.1
       },
       "content": {
        "cell": "02cf2959-e712-4af8-8bb6-f914608e15ac",
        "part": "whole"
       },
       "id": "88808a64-d487-4a72-b74f-5b1db506cbec"
      }
     }
    },
    "f27ef294-a3b8-4e5c-9050-45addbe0b149": {
     "id": "f27ef294-a3b8-4e5c-9050-45addbe0b149",
     "prev": "336153f3-0ab5-44bc-a573-edaf69c0b238",
     "regions": {
      "c15a426b-5006-40a7-b0ef-45a7aa142ea6": {
       "attrs": {
        "height": 0.8,
        "width": 0.8,
        "x": 0.1,
        "y": 0.1
       },
       "content": {
        "cell": "3ed39876-5608-4f08-ba3c-a08d1c1d2c84",
        "part": "whole"
       },
       "id": "c15a426b-5006-40a7-b0ef-45a7aa142ea6"
      }
     }
    }
   },
   "themes": {}
  }
 },
 "nbformat": 4,
 "nbformat_minor": 1
}
