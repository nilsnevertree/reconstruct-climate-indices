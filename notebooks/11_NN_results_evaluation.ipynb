{
 "cells": [
  {
   "cell_type": "code",
   "execution_count": null,
   "metadata": {},
   "outputs": [],
   "source": [
    "import numpy as np\n",
    "import xarray as xr\n",
    "import yaml\n",
    "from pathlib import Path\n",
    "from kalman_reconstruction.custom_plot import (\n",
    "    set_custom_rcParams,\n",
    "    adjust_lightness,\n",
    "    plot_colors,\n",
    "    symmetrize_axis,\n",
    "    handler_map_alpha,\n",
    "    symmetrize_axis,\n",
    "    plot_state_with_probability,\n",
    ")\n",
    "from reconstruct_climate_indices.idealized_ocean import spunge_ocean, oscillatory_ocean\n",
    "from reconstruct_climate_indices.statistics import (\n",
    "    linear_regression_loglog,\n",
    "    power_density_spectrum,\n",
    "    xarray_dataset_welch,\n",
    "    xarray_dataarray_welch,\n",
    ")\n",
    "from kalman_reconstruction.pipeline import from_standard_dataset\n",
    "from kalman_reconstruction.statistics import normalize, crosscorr\n",
    "import matplotlib.pyplot as plt\n",
    "\n",
    "# from sklearn.linear_model import LinearRegression\n",
    "from scipy import signal"
   ]
  },
  {
   "cell_type": "code",
   "execution_count": null,
   "metadata": {},
   "outputs": [],
   "source": [
    "# dark_color = \"k\"\n",
    "# lightness_0 = 0.75\n",
    "# lightness_1 = 0.5\n",
    "plt.style.use(\"dark_background\")\n",
    "dark_color = [0.7, 0.7, 0.7]\n",
    "light_color = [0.2, 0.2, 0.2]\n",
    "lightness_0 = 1.15\n",
    "lightness_1 = 1.5\n",
    "set_custom_rcParams()\n",
    "plt.rcParams[\"axes.grid\"] = False\n",
    "colors = [\n",
    "    \"#CC6677\",\n",
    "    \"#6E9CB3\",\n",
    "    \"#CA8727\",\n",
    "    \"#44AA99\",\n",
    "    \"#AA4499\",\n",
    "    \"#D6BE49\",\n",
    "    \"#A494F5\",\n",
    "]\n",
    "plot_colors(colors)\n",
    "variables_color = dict()\n",
    "variables_color[\"SAT\"] = colors[0]\n",
    "variables_color[\"SST\"] = colors[2]\n",
    "variables_color[\"DOT\"] = colors[1]\n",
    "variables_color[\"latent\"] = colors[3]\n",
    "variables_color[\"loglikelihood\"] = (colors[-1],)"
   ]
  },
  {
   "cell_type": "code",
   "execution_count": null,
   "metadata": {},
   "outputs": [],
   "source": [
    "REPO_PATH = Path(\".\").resolve().parent\n",
    "results_path = REPO_PATH / Path(\"results\") / \"Report\" / \"results\" / \"Example\"\n",
    "results_path.mkdir(parents=True, exist_ok=True)\n",
    "SAVE_FIGURES = True\n",
    "\n",
    "\n",
    "def save_fig(fig, relative_path, **kwargs):\n",
    "    store_path = results_path / relative_path\n",
    "    store_path.parent.mkdir(parents=True, exist_ok=True)\n",
    "    if SAVE_FIGURES:\n",
    "        fig.savefig(store_path, **kwargs)\n",
    "    else:\n",
    "        pass"
   ]
  },
  {
   "attachments": {},
   "cell_type": "markdown",
   "metadata": {},
   "source": [
    "# Evaluation "
   ]
  },
  {
   "cell_type": "code",
   "execution_count": null,
   "metadata": {},
   "outputs": [],
   "source": [
    "def all_choords_as_dims(ds):\n",
    "    for dim in ds.coords:\n",
    "        try:\n",
    "            ds = ds.expand_dims(dim)\n",
    "        except:\n",
    "            pass\n",
    "    return ds\n",
    "\n",
    "\n",
    "import seaborn as sns"
   ]
  },
  {
   "attachments": {},
   "cell_type": "markdown",
   "metadata": {},
   "source": [
    "## Sponge Ocean"
   ]
  },
  {
   "cell_type": "code",
   "execution_count": null,
   "metadata": {},
   "outputs": [],
   "source": [
    "run_names = [\n",
    "    \"polite-eel-349\",\n",
    "    \"flawless-loon-25\",\n",
    "]\n",
    "\n",
    "kalman_list = []\n",
    "input_list = []\n",
    "for name in run_names:\n",
    "    data_path = REPO_PATH / \"data\" / \"Evaluation-Idealized-Ocean\" / name\n",
    "    kalman_list.append(xr.open_dataset(data_path / (name + \"_kalman.nc\")))\n",
    "    input_list.append(xr.open_dataset(data_path / (name + \"_input.nc\")))\n",
    "sponge_kalman = xr.merge(kalman_list)\n",
    "sponge_input = xr.merge(input_list)\n",
    "\n",
    "\n",
    "# test = normalize(test, dim = \"time\", method = \"mean\")\n",
    "sponge_kalman_states = from_standard_dataset(ds=sponge_kalman, dim=\"time\")\n",
    "\n",
    "number_of_runs = len(sponge_kalman.seed)"
   ]
  },
  {
   "cell_type": "code",
   "execution_count": null,
   "metadata": {},
   "outputs": [
    {
     "data": {
      "text/plain": [
       "Text(0.5, 0.98, 'Sponge Ocean | Log likelihood evolution over kalman itterations.')"
      ]
     },
     "execution_count": null,
     "metadata": {},
     "output_type": "execute_result"
    }
   ],
   "source": [
    "ocean = \"Sponge Ocean\"\n",
    "fig, ax = plt.subplots(1, 1)\n",
    "for t in sponge_kalman.tau0:\n",
    "    # for p in test.per0:\n",
    "    select_dict = dict(\n",
    "        tau0=t,\n",
    "        # per0 = p,\n",
    "    )\n",
    "    m = sponge_kalman.sel(select_dict)[\"log_likelihod\"].mean(dim=\"seed\")\n",
    "    s = sponge_kalman.sel(select_dict)[\"log_likelihod\"].std(dim=\"seed\")\n",
    "    plot_state_with_probability(\n",
    "        ax=ax, x_value=sponge_kalman[\"kalman_itteration\"], state=m, prob=s, stds=5\n",
    "    )\n",
    "ax.set_xlabel(\"Itterations of Kalman-SEM\")\n",
    "ax.set_ylabel(\"Loglikelihood\")\n",
    "ax.set_title(\n",
    "    f\"Solid as mean and shaded as 2 std based on {number_of_runs} random runs for each parameter set\"\n",
    ")\n",
    "fig.suptitle(f\"{ocean} | Log likelihood evolution over kalman itterations.\")"
   ]
  },
  {
   "cell_type": "code",
   "execution_count": null,
   "metadata": {},
   "outputs": [
    {
     "data": {
      "text/plain": [
       "Text(0.5, 0.98, 'Sponge Ocean | Log likelihood increase over kalman itterations.')"
      ]
     },
     "execution_count": null,
     "metadata": {},
     "output_type": "execute_result"
    }
   ],
   "source": [
    "ocean = \"Sponge Ocean\"\n",
    "# Calculate Loglikelihood increase\n",
    "sponge_kalman[\"log_likelihod_increase\"] = sponge_kalman[\"log_likelihod\"].isel(\n",
    "    kalman_itteration=-1\n",
    ") - sponge_kalman[\"log_likelihod\"].isel(kalman_itteration=0)\n",
    "da_lli = sponge_kalman[\"log_likelihod_increase\"]\n",
    "da_lli = da_lli.expand_dims(df=[0.115])\n",
    "# PLOT\n",
    "heatmap_kwargs = dict(\n",
    "    xticklabels=da_lli.tau0.values / 365.25,\n",
    "    yticklabels=da_lli.df.values,\n",
    "    square=True,\n",
    "    annot=True,\n",
    "    fmt=\".2f\",\n",
    "    vmin=0,\n",
    "    vmax=2.6,\n",
    ")\n",
    "\n",
    "fig, axs = plt.subplots(1, 2, figsize=(14, 6))\n",
    "m = da_lli.mean(dim=\"seed\") * 10 ** (-3)\n",
    "s = da_lli.std(dim=\"seed\") * 10 ** (-3)\n",
    "sns.heatmap(m, ax=axs[0], **heatmap_kwargs)\n",
    "axs[0].set_title(rf\"Mean of {number_of_runs} random runs ($\\times 1000$)\")\n",
    "# sns.heatmap(s,\n",
    "#             ax = axs[1],\n",
    "#             **heatmap_kwargs\n",
    "#             )\n",
    "# axs[1].set_title(\"Std. of {number_of_runs} random runs\")\n",
    "sns.heatmap(\n",
    "    s / m,\n",
    "    ax=axs[1],\n",
    "    **{\n",
    "        **heatmap_kwargs,\n",
    "        **dict(vmin=0, vmax=1),\n",
    "    },\n",
    ")\n",
    "axs[1].set_title(f\"Std./Mean of {number_of_runs} random runs\")\n",
    "\n",
    "for ax in axs:\n",
    "    ax.set_xlabel(r\"$\\tau_0$ in y\")\n",
    "    ax.set_ylabel(r\"$df$ in y\")\n",
    "\n",
    "fig.suptitle(f\"{ocean} | Log likelihood increase over kalman itterations.\")"
   ]
  },
  {
   "cell_type": "code",
   "execution_count": null,
   "metadata": {},
   "outputs": [],
   "source": [
    "# calculate all correaltions\n",
    "corr_list = []\n",
    "\n",
    "for var in sponge_input.data_vars:\n",
    "    temp = crosscorr(\n",
    "        ds1=sponge_kalman_states[\"latent\"],\n",
    "        ds2=sponge_input[var],\n",
    "        dim=\"time\",\n",
    "    )\n",
    "    temp.name = var\n",
    "    corr_list.append(temp)\n",
    "sponge_corr = xr.merge(corr_list)\n",
    "sponge_corr = sponge_corr.expand_dims(df=[0.115])"
   ]
  },
  {
   "cell_type": "code",
   "execution_count": null,
   "metadata": {},
   "outputs": [
    {
     "data": {
      "text/plain": [
       "Text(0.5, 0.98, 'Sponge Ocean | Correlation Coefficient SAT to latent.')"
      ]
     },
     "execution_count": null,
     "metadata": {},
     "output_type": "execute_result"
    }
   ],
   "source": [
    "var = \"SAT\"\n",
    "da_corr = sponge_corr[var]\n",
    "\n",
    "# PLOT\n",
    "\n",
    "heatmap_kwargs = dict(\n",
    "    xticklabels=da_corr.tau0.values / 365.25,\n",
    "    yticklabels=da_corr.df.values,\n",
    "    square=True,\n",
    "    annot=True,\n",
    "    fmt=\".2f\",\n",
    "    vmin=0,\n",
    "    vmax=1,\n",
    ")\n",
    "\n",
    "fig, axs = plt.subplots(1, 2, figsize=(14, 6))\n",
    "m = np.abs(da_corr).mean(dim=\"seed\")\n",
    "s = np.abs(da_corr).std(dim=\"seed\")\n",
    "sns.heatmap(m, ax=axs[0], **heatmap_kwargs)\n",
    "axs[0].set_title(f\"Mean of {number_of_runs} random runs\")\n",
    "sns.heatmap(\n",
    "    s / m,\n",
    "    ax=axs[1],\n",
    "    **{\n",
    "        **heatmap_kwargs,\n",
    "    },\n",
    ")\n",
    "axs[1].set_title(f\"Std./Mean of {number_of_runs} random runs\")\n",
    "\n",
    "for ax in axs:\n",
    "    ax.set_xlabel(r\"$\\tau_0$ in y\")\n",
    "    ax.set_ylabel(r\"$\\omega_0$ in y\")\n",
    "\n",
    "fig.suptitle(f\"{ocean} | Correlation Coefficient {var} to latent.\")"
   ]
  },
  {
   "cell_type": "code",
   "execution_count": null,
   "metadata": {},
   "outputs": [],
   "source": [
    "# Check correct order\n",
    "m"
   ]
  },
  {
   "attachments": {},
   "cell_type": "markdown",
   "metadata": {},
   "source": [
    "## Oscillatory Ocean"
   ]
  },
  {
   "cell_type": "code",
   "execution_count": null,
   "metadata": {},
   "outputs": [],
   "source": [
    "run_names = [\n",
    "    \"dapper-fox-131\",\n",
    "    \"respected-fowl-948\",\n",
    "]\n",
    "\n",
    "kalman_list = []\n",
    "input_list = []\n",
    "for name in run_names:\n",
    "    data_path = REPO_PATH / \"data\" / \"Evaluation-Idealized-Ocean\" / name\n",
    "    kalman_list.append(xr.open_dataset(data_path / (name + \"_kalman.nc\")))\n",
    "    input_list.append(xr.open_dataset(data_path / (name + \"_input.nc\")))\n",
    "oscillatory_kalman = xr.merge(kalman_list)\n",
    "oscillatory_input = xr.merge(input_list)\n",
    "\n",
    "\n",
    "# test = normalize(test, dim = \"time\", method = \"mean\")\n",
    "oscillatory_kalman_states = from_standard_dataset(ds=oscillatory_kalman, dim=\"time\")\n",
    "\n",
    "number_of_runs = len(oscillatory_kalman.seed)"
   ]
  },
  {
   "cell_type": "code",
   "execution_count": null,
   "metadata": {},
   "outputs": [
    {
     "data": {
      "text/plain": [
       "Text(0.5, 0.98, 'Oscillatory Ocean | Log likelihood evolution over kalman itterations.')"
      ]
     },
     "execution_count": null,
     "metadata": {},
     "output_type": "execute_result"
    }
   ],
   "source": [
    "ocean = \"Oscillatory Ocean\"\n",
    "fig, ax = plt.subplots(1, 1)\n",
    "for t in oscillatory_kalman.tau0:\n",
    "    for p in oscillatory_kalman.per0:\n",
    "        select_dict = dict(\n",
    "            tau0=t,\n",
    "            per0=p,\n",
    "        )\n",
    "        m = oscillatory_kalman.sel(select_dict)[\"log_likelihod\"].mean(dim=\"seed\")\n",
    "        s = oscillatory_kalman.sel(select_dict)[\"log_likelihod\"].std(dim=\"seed\")\n",
    "        plot_state_with_probability(\n",
    "            ax=ax,\n",
    "            x_value=oscillatory_kalman[\"kalman_itteration\"],\n",
    "            state=m,\n",
    "            prob=s,\n",
    "            stds=2,\n",
    "        )\n",
    "ax.set_xlabel(\"Itterations of Kalman-SEM\")\n",
    "ax.set_ylabel(\"Loglikelihood\")\n",
    "ax.set_title(\n",
    "    f\"Solid as mean and shaded as 2 std based on {number_of_runs} random runs for each parameter set\"\n",
    ")\n",
    "fig.suptitle(f\"{ocean} | Log likelihood evolution over kalman itterations.\")"
   ]
  },
  {
   "cell_type": "code",
   "execution_count": null,
   "metadata": {},
   "outputs": [
    {
     "data": {
      "text/plain": [
       "Text(0.5, 0.98, 'Oscillatory Ocean | Log likelihood increase over kalman itterations.')"
      ]
     },
     "execution_count": null,
     "metadata": {},
     "output_type": "execute_result"
    }
   ],
   "source": [
    "ocean = \"Oscillatory Ocean\"\n",
    "# Calculate Loglikelihood increase\n",
    "oscillatory_kalman[\"log_likelihod_increase\"] = oscillatory_kalman[\"log_likelihod\"].isel(\n",
    "    kalman_itteration=-1\n",
    ") - oscillatory_kalman[\"log_likelihod\"].isel(kalman_itteration=0)\n",
    "da_lli = oscillatory_kalman[\"log_likelihod_increase\"]\n",
    "# PLOT\n",
    "heatmap_kwargs = dict(\n",
    "    xticklabels=da_lli.per0.values / 365.25,\n",
    "    yticklabels=da_lli.tau0.values / 365.25,\n",
    "    square=True,\n",
    "    annot=True,\n",
    "    fmt=\".2f\",\n",
    "    vmin=0,\n",
    "    vmax=2.6,\n",
    ")\n",
    "\n",
    "\n",
    "fig, axs = plt.subplots(1, 2, figsize=(14, 6))\n",
    "m = da_lli.mean(dim=\"seed\") * 10 ** (-3)\n",
    "s = da_lli.std(dim=\"seed\") * 10 ** (-3)\n",
    "sns.heatmap(m, ax=axs[0], **heatmap_kwargs)\n",
    "axs[0].set_title(rf\"Mean of {number_of_runs} random runs ($\\times 1000$)\")\n",
    "# sns.heatmap(s,\n",
    "#             ax = axs[1],\n",
    "#             **heatmap_kwargs\n",
    "#             )\n",
    "# axs[1].set_title(\"Std. of {number_of_runs} random runs\")\n",
    "sns.heatmap(\n",
    "    s / m,\n",
    "    ax=axs[1],\n",
    "    **{\n",
    "        **heatmap_kwargs,\n",
    "        **dict(vmin=0, vmax=1),\n",
    "    },\n",
    ")\n",
    "axs[1].set_title(f\"Std./Mean of {number_of_runs} random runs\")\n",
    "\n",
    "for ax in axs:\n",
    "    ax.set_ylabel(r\"$\\tau_0$ in y\")\n",
    "    ax.set_xlabel(r\"$\\omega_0$ in y\")\n",
    "\n",
    "fig.suptitle(f\"{ocean} | Log likelihood increase over kalman itterations.\")"
   ]
  },
  {
   "cell_type": "code",
   "execution_count": null,
   "metadata": {},
   "outputs": [],
   "source": [
    "# calculate all correaltions\n",
    "corr_list = []\n",
    "\n",
    "for var in oscillatory_input.data_vars:\n",
    "    temp = crosscorr(\n",
    "        ds1=oscillatory_kalman_states[\"latent\"],\n",
    "        ds2=oscillatory_input[var],\n",
    "        dim=\"time\",\n",
    "    )\n",
    "    temp.name = var\n",
    "    corr_list.append(temp)\n",
    "oscillatory_corr = xr.merge(corr_list)"
   ]
  },
  {
   "cell_type": "code",
   "execution_count": null,
   "metadata": {},
   "outputs": [
    {
     "data": {
      "text/plain": [
       "Text(0.5, 0.98, 'Oscillatory Ocean | Correlation Coefficient DOT to latent.')"
      ]
     },
     "execution_count": null,
     "metadata": {},
     "output_type": "execute_result"
    }
   ],
   "source": [
    "var = \"DOT\"\n",
    "da_corr = oscillatory_corr[var]\n",
    "\n",
    "# PLOT\n",
    "\n",
    "heatmap_kwargs = dict(\n",
    "    xticklabels=da_corr.per0.values / 365.25,\n",
    "    yticklabels=da_corr.tau0.values / 365.25,\n",
    "    square=True,\n",
    "    annot=True,\n",
    "    fmt=\".2f\",\n",
    "    vmin=0,\n",
    "    vmax=1,\n",
    ")\n",
    "\n",
    "fig, axs = plt.subplots(1, 2, figsize=(14, 6))\n",
    "m = np.abs(da_corr).mean(dim=\"seed\")\n",
    "s = np.abs(da_corr).std(dim=\"seed\")\n",
    "sns.heatmap(m, ax=axs[0], **heatmap_kwargs)\n",
    "axs[0].set_title(f\"Mean of {number_of_runs} random runs\")\n",
    "sns.heatmap(\n",
    "    s / m,\n",
    "    ax=axs[1],\n",
    "    **{\n",
    "        **heatmap_kwargs,\n",
    "    },\n",
    ")\n",
    "axs[1].set_title(f\"Std./Mean of {number_of_runs} random runs\")\n",
    "\n",
    "for ax in axs:\n",
    "    ax.set_ylabel(r\"$\\tau_0$ in y\")\n",
    "    ax.set_xlabel(r\"$\\omega_0$ in y\")\n",
    "\n",
    "fig.suptitle(f\"{ocean} | Correlation Coefficient {var} to latent.\")"
   ]
  },
  {
   "cell_type": "code",
   "execution_count": null,
   "metadata": {},
   "outputs": [],
   "source": [
    "# On can see that the x and y axis need to be flipped\n",
    "np.abs(oscillatory_corr[var].sel(tau0=5 * 365.25, per0=48 * 365.25)).mean(dim=\"seed\")\n",
    "np.abs(oscillatory_corr[var].sel(tau0=20 * 365.25, per0=48 * 365.25)).mean(dim=\"seed\")"
   ]
  },
  {
   "attachments": {},
   "cell_type": "markdown",
   "metadata": {},
   "source": [
    "## Power Spectral Density"
   ]
  },
  {
   "cell_type": "code",
   "execution_count": null,
   "metadata": {},
   "outputs": [],
   "source": [
    "sponge_kalman_psd = xarray_dataset_welch(\n",
    "    sponge_kalman_states, dim=\"time\", welch_kwargs=dict(fs=12)\n",
    ")\n",
    "oscillatory_kalman_psd = xarray_dataset_welch(\n",
    "    oscillatory_kalman_states, dim=\"time\", welch_kwargs=dict(fs=12)\n",
    ")\n",
    "\n",
    "sponge_psd = xarray_dataset_welch(sponge_input, dim=\"time\", welch_kwargs=dict(fs=12))\n",
    "oscillatory_psd = xarray_dataset_welch(\n",
    "    oscillatory_input, dim=\"time\", welch_kwargs=dict(fs=12)\n",
    ")"
   ]
  },
  {
   "cell_type": "code",
   "execution_count": null,
   "metadata": {},
   "outputs": [],
   "source": [
    "from importlib import reload\n",
    "import reconstruct_climate_indices.statistics as stati\n",
    "from sklearn.linear_model import LinearRegression"
   ]
  },
  {
   "cell_type": "code",
   "execution_count": null,
   "metadata": {},
   "outputs": [
    {
     "data": {
      "text/plain": [
       "<module 'reconstruct_climate_indices.statistics' from 'C:\\\\Users\\\\Niebaum\\\\Documents\\\\Repositories\\\\reconstruct-climate-indices\\\\reconstruct_climate_indices\\\\statistics.py'>"
      ]
     },
     "execution_count": null,
     "metadata": {},
     "output_type": "execute_result"
    }
   ],
   "source": [
    "reload(stati)"
   ]
  },
  {
   "cell_type": "code",
   "execution_count": null,
   "metadata": {},
   "outputs": [],
   "source": [
    "frequencies, sponge_linear, sponge_regression = xr.apply_ufunc(\n",
    "    stati.linear_regression_loglog,\n",
    "    sponge_psd[\"frequency\"],  # Input frequencies\n",
    "    sponge_psd,  # Input spectrum\n",
    "    # sponge_psd[\"tau0\"] / 365.25,\n",
    "    input_core_dims=[[\"frequency\"], [\"frequency\"]],\n",
    "    output_core_dims=[[\"frequency\"], [\"frequency\"], []],\n",
    "    vectorize=True,\n",
    "    # dask='parallelized',\n",
    "    # exclude_dims=set((\"frequency\",)),\n",
    "    output_dtypes=[float, float, object],\n",
    "    kwargs={\"f_low\": -np.inf, \"f_high\": np.inf, \"weights\": \"f_inverse\"},\n",
    ")\n",
    "\n",
    "frequencies, oscillatory_linear, oscillatory_regression = xr.apply_ufunc(\n",
    "    stati.linear_regression_loglog,\n",
    "    oscillatory_psd[\"frequency\"],  # Input frequencies\n",
    "    oscillatory_psd,  # Input spectrum\n",
    "    input_core_dims=[[\"frequency\"], [\"frequency\"]],\n",
    "    output_core_dims=[[\"frequency\"], [\"frequency\"], []],\n",
    "    vectorize=True,\n",
    "    # dask='parallelized',\n",
    "    # exclude_dims=set((\"frequency\",)),\n",
    "    output_dtypes=[float, float, object],\n",
    "    kwargs={\"f_low\": -np.inf, \"f_high\": np.inf, \"weights\": \"f_inverse\"},\n",
    ")\n",
    "\n",
    "frequencies, sponge_kalman_linear, sponge_kalman_regression = xr.apply_ufunc(\n",
    "    stati.linear_regression_loglog,\n",
    "    sponge_kalman_psd[\"frequency\"],  # Input frequencies\n",
    "    sponge_kalman_psd,  # Input spectrum\n",
    "    input_core_dims=[[\"frequency\"], [\"frequency\"]],\n",
    "    output_core_dims=[[\"frequency\"], [\"frequency\"], []],\n",
    "    vectorize=True,\n",
    "    # dask='parallelized',\n",
    "    # exclude_dims=set((\"frequency\",)),\n",
    "    output_dtypes=[float, float, object],\n",
    "    kwargs={\"f_low\": -np.inf, \"f_high\": np.inf, \"weights\": \"f_inverse\"},\n",
    ")\n",
    "\n",
    "frequencies, oscillatory_kalman_linear, oscillatory_kalman_regression = xr.apply_ufunc(\n",
    "    stati.linear_regression_loglog,\n",
    "    oscillatory_kalman_psd[\"frequency\"],  # Input frequencies\n",
    "    oscillatory_kalman_psd,  # Input spectrum\n",
    "    input_core_dims=[[\"frequency\"], [\"frequency\"]],\n",
    "    output_core_dims=[[\"frequency\"], [\"frequency\"], []],\n",
    "    vectorize=True,\n",
    "    # dask='parallelized',\n",
    "    # exclude_dims=set((\"frequency\",)),\n",
    "    output_dtypes=[float, float, object],\n",
    "    kwargs={\"f_low\": -np.inf, \"f_high\": np.inf, \"weights\": \"f_inverse\"},\n",
    ")"
   ]
  },
  {
   "cell_type": "code",
   "execution_count": null,
   "metadata": {},
   "outputs": [],
   "source": [
    "def get_slope(x):\n",
    "    return x.coef_[0][0]\n",
    "\n",
    "\n",
    "sponge_slopes = xr.apply_ufunc(\n",
    "    get_slope,\n",
    "    sponge_regression,  # Input frequencies\n",
    "    vectorize=True,\n",
    "    # dask='parallelized',\n",
    "    # exclude_dims=set((\"frequency\",)),\n",
    "    output_dtypes=[float],\n",
    ")\n",
    "\n",
    "oscillatory_slopes = xr.apply_ufunc(\n",
    "    get_slope,\n",
    "    oscillatory_regression,  # Input frequencies\n",
    "    vectorize=True,\n",
    "    # dask='parallelized',\n",
    "    # exclude_dims=set((\"frequency\",)),\n",
    "    output_dtypes=[float],\n",
    ")\n",
    "\n",
    "sponge_kalman_slopes = xr.apply_ufunc(\n",
    "    get_slope,\n",
    "    sponge_kalman_regression,  # Input frequencies\n",
    "    vectorize=True,\n",
    "    # dask='parallelized',\n",
    "    # exclude_dims=set((\"frequency\",)),\n",
    "    output_dtypes=[float],\n",
    ")\n",
    "oscillatory_kalman_slopes = xr.apply_ufunc(\n",
    "    get_slope,\n",
    "    oscillatory_kalman_regression,  # Input frequencies\n",
    "    vectorize=True,\n",
    "    # dask='parallelized',\n",
    "    # exclude_dims=set((\"frequency\",)),\n",
    "    output_dtypes=[float],\n",
    ")"
   ]
  },
  {
   "attachments": {},
   "cell_type": "markdown",
   "metadata": {},
   "source": [
    "#### plot the slope"
   ]
  },
  {
   "cell_type": "code",
   "execution_count": null,
   "metadata": {},
   "outputs": [
    {
     "data": {
      "text/plain": [
       "Text(0.5, 0.98, 'Sponge Ocean | Slope of linear regression in loglog space for latent.')"
      ]
     },
     "execution_count": null,
     "metadata": {},
     "output_type": "execute_result"
    }
   ],
   "source": [
    "var = \"latent\"\n",
    "# ocean = \"Oscillatory Ocean\"\n",
    "# da_slopes = oscillatory_kalman_slopes[var]\n",
    "# heatmap_kwargs = dict(\n",
    "#     xticklabels=da_slopes.per0.values / 365.25,\n",
    "#     yticklabels=da_slopes.tau0.values / 365.25,\n",
    "#     square=True,\n",
    "#     annot=True,\n",
    "#     fmt=\".2f\",\n",
    "#     vmin = -3,\n",
    "#     vmax = 0,\n",
    "#     cmap = \"rocket_r\"\n",
    "# )\n",
    "ocean = \"Sponge Ocean\"\n",
    "da_slopes = sponge_kalman_slopes[var]\n",
    "da_slopes = da_slopes.expand_dims(df=[0.115])\n",
    "heatmap_kwargs = dict(\n",
    "    xticklabels=da_slopes.tau0.values / 365.25,\n",
    "    yticklabels=da_slopes.df.values,\n",
    "    square=True,\n",
    "    annot=True,\n",
    "    fmt=\".2f\",\n",
    "    vmin=-3,\n",
    "    vmax=0,\n",
    "    cmap=\"rocket_r\",\n",
    ")\n",
    "\n",
    "fig, axs = plt.subplots(1, 2, figsize=(14, 6))\n",
    "m = da_slopes.mean(dim=\"seed\")\n",
    "s = -da_slopes.std(dim=\"seed\")\n",
    "sns.heatmap(m, ax=axs[0], **heatmap_kwargs)\n",
    "axs[0].set_title(f\"Mean of {number_of_runs} random runs\")\n",
    "sns.heatmap(\n",
    "    s,\n",
    "    ax=axs[1],\n",
    "    **{\n",
    "        **heatmap_kwargs,\n",
    "    },\n",
    ")\n",
    "axs[1].set_title(f\"Std. of {number_of_runs} random runs (negative)\")\n",
    "\n",
    "for ax in axs:\n",
    "    ax.set_ylabel(r\"$\\tau_0$ in y\")\n",
    "    ax.set_xlabel(r\"$\\omega_0$ in y\")\n",
    "\n",
    "fig.suptitle(f\"{ocean} | Slope of linear regression in loglog space for {var}.\")"
   ]
  }
 ],
 "metadata": {
  "kernelspec": {
   "display_name": "climNum",
   "language": "python",
   "name": "python3"
  },
  "language_info": {
   "codemirror_mode": {
    "name": "ipython",
    "version": 3
   },
   "file_extension": ".py",
   "mimetype": "text/x-python",
   "name": "python",
   "nbconvert_exporter": "python",
   "pygments_lexer": "ipython3",
   "version": "3.10.9"
  }
 },
 "nbformat": 4,
 "nbformat_minor": 2
}
