{
 "cells": [
  {
   "cell_type": "code",
   "execution_count": null,
   "metadata": {},
   "outputs": [],
   "source": [
    "import xarray as xr\n",
    "import numpy as np\n",
    "from pathlib import Path\n",
    "from kalman_reconstruction import pipeline\n",
    "from kalman_reconstruction.custom_plot import (\n",
    "    ncols_nrows_from_N,\n",
    "    set_custom_rcParams,\n",
    "    plot_state_with_probability,\n",
    "    adjust_lightness,\n",
    ")\n",
    "from kalman_reconstruction.statistics import normalize\n",
    "import matplotlib.pyplot as plt\n",
    "import yaml\n",
    "\n",
    "set_custom_rcParams()\n",
    "plt.rcParams[\"axes.grid\"] = True"
   ]
  },
  {
   "cell_type": "code",
   "execution_count": null,
   "metadata": {},
   "outputs": [],
   "source": [
    "experiment_name = \"smoothed_10y_not_NAO\"\n",
    "REPO_PATH = Path(\"..\")\n",
    "PATH_FIGURES = REPO_PATH / Path(\"results\") / \"CiCMOD\" / experiment_name\n",
    "SAVE_FIGURES = True\n",
    "\n",
    "\n",
    "def save_fig(fig, relative_path, **kwargs):\n",
    "    store_path = PATH_FIGURES / relative_path\n",
    "    store_path.parent.mkdir(parents=True, exist_ok=True)\n",
    "    if SAVE_FIGURES:\n",
    "        fig.savefig(store_path, **kwargs)\n",
    "    else:\n",
    "        pass"
   ]
  },
  {
   "cell_type": "code",
   "execution_count": null,
   "metadata": {},
   "outputs": [],
   "source": [
    "time_slice = slice(500, 1000)\n",
    "data = data_original.sel(time=time_slice).copy()\n",
    "rolling_window = 0 * 12\n",
    "rng_seed = 83653\n",
    "random_variance = 1\n",
    "nb_iter_SEM = 50\n",
    "observation_variables = [\"AMO\", \"NAO_ST\", \"SAT_N_OCEAN\"]\n",
    "state_variables = [\"AMO\", \"NAO_ST\", \"SAT_N_OCEAN\", \"latent\"]\n",
    "\n",
    "settings = dict(\n",
    "    rolling_window=rolling_window,\n",
    "    rng_seed=rng_seed,\n",
    "    random_variance=random_variance,\n",
    "    observation_variables=observation_variables,\n",
    "    state_variables=state_variables,\n",
    "    nb_iter_SEM=nb_iter_SEM,\n",
    "    time_slice=dict(\n",
    "        start=time_slice.start,\n",
    "        stop=time_slice.stop,\n",
    "    ),\n",
    "    data_path=str(data_path),\n",
    ")\n",
    "with open(PATH_FIGURES / \"settings.yaml\", \"w\") as stream:\n",
    "    stream.write(\n",
    "        \"#Settings used in the application of the Kalman_SEM on the CiCOD dataset.\\n\"\n",
    "    )\n",
    "    yaml.dump(data=settings, stream=stream, default_flow_style=False)"
   ]
  },
  {
   "cell_type": "code",
   "execution_count": null,
   "metadata": {},
   "outputs": [],
   "source": [
    "data_path = (\n",
    "    REPO_PATH\n",
    "    / Path(\"data\")\n",
    "    / \"earth_system_models\"\n",
    "    / \"CiCMOD\"\n",
    "    / \"climate_indices_CESM.nc\"\n",
    ")\n",
    "data_original = xr.load_dataset(data_path)"
   ]
  },
  {
   "cell_type": "code",
   "execution_count": null,
   "metadata": {},
   "outputs": [],
   "source": [
    "try:\n",
    "    data = (\n",
    "        data.rolling(time=rolling_window)\n",
    "        .mean()\n",
    "        .isel(time=slice(rolling_window, -rolling_window))\n",
    "    )\n",
    "    data[\"NAO_ST\"] = data_original[\"NAO_ST\"]\n",
    "    data[\"SAT_N_OCEAN\"] = data_original[\"SAT_N_OCEAN\"]\n",
    "except:\n",
    "    pass\n",
    "\n",
    "\n",
    "random_vars = [\"latent\"]\n",
    "for random_var in random_vars:\n",
    "    rng = np.random.default_rng(seed=rng_seed)\n",
    "    pipeline.add_random_variable(\n",
    "        ds=data,\n",
    "        var_name=random_var,\n",
    "        random_generator=rng,\n",
    "        variance=random_variance,\n",
    "        dim=\"time\",\n",
    "    )"
   ]
  },
  {
   "cell_type": "code",
   "execution_count": null,
   "metadata": {},
   "outputs": [
    {
     "name": "stderr",
     "output_type": "stream",
     "text": [
      "100%|██████████| 50/50 [03:47<00:00,  4.56s/it]\n"
     ]
    }
   ],
   "source": [
    "kalman_results = pipeline.xarray_Kalman_SEM(\n",
    "    ds=data,\n",
    "    observation_variables=observation_variables,\n",
    "    state_variables=state_variables,\n",
    "    nb_iter_SEM=nb_iter_SEM,\n",
    ")"
   ]
  },
  {
   "cell_type": "code",
   "execution_count": null,
   "metadata": {},
   "outputs": [],
   "source": [
    "kalman_states = pipeline.from_standard_dataset(kalman_results)"
   ]
  },
  {
   "cell_type": "code",
   "execution_count": null,
   "metadata": {},
   "outputs": [],
   "source": [
    "fig, ax = plt.subplots(1, 1, figsize=(8, 4))\n",
    "ax.plot(kalman_results.kalman_itteration, kalman_results.log_likelihod)\n",
    "ax.set_xlabel(\"kalman itteration\")\n",
    "ax.set_ylabel(\"log likelihood\")\n",
    "fig.suptitle(\"CiCMOD | Loglikelihood Kalman SEM\")\n",
    "save_fig(fig, \"CiCMOD_latent_indices_scatter.png\", dpi=400)"
   ]
  },
  {
   "cell_type": "code",
   "execution_count": null,
   "metadata": {},
   "outputs": [],
   "source": [
    "fig, axs = plt.subplots(\n",
    "    nrows=len(state_variables),\n",
    "    ncols=1,\n",
    "    layout=\"constrained\",\n",
    "    figsize=(12, 7),\n",
    "    sharex=True,\n",
    ")\n",
    "axs = axs.flatten()\n",
    "for idx, var in enumerate(state_variables):\n",
    "    handle1, handle2 = plot_state_with_probability(\n",
    "        ax=axs[idx],\n",
    "        x_value=kalman_results.time,\n",
    "        state=kalman_results.states.sel(state_name=var),\n",
    "        prob=kalman_results.covariance.sel(state_name=var, state_name_copy=var),\n",
    "        line_kwargs=dict(label=f\"{var} recon.\"),\n",
    "        output=True,\n",
    "    )\n",
    "\n",
    "    # if \"latent\" not in var:\n",
    "    color = adjust_lightness(\n",
    "        handle1[0].get_color(),\n",
    "    )\n",
    "    axs[idx].plot(data.time, data[var], label=f\"{var} truth\", alpha=0.7, linestyle=\":\")\n",
    "    axs[idx].set_title(var)\n",
    "    axs[idx].set_ylabel(\"value\")\n",
    "    axs[idx].legend()\n",
    "axs[idx].set_xlabel(\"time in years\")\n",
    "fig.suptitle(\"CiCMOD | Reconstruction against truth\")\n",
    "save_fig(fig, \"CiCMOD_recons_truth.png\", dpi=400)"
   ]
  },
  {
   "cell_type": "code",
   "execution_count": null,
   "metadata": {},
   "outputs": [],
   "source": [
    "n_cols = len(state_variables)\n",
    "fig, axs = plt.subplots(layout=\"constrained\", figsize=(12, 4), ncols=n_cols)\n",
    "axs = axs.flatten()\n",
    "\n",
    "for idx, var in enumerate(state_variables):\n",
    "    axs[idx].scatter(\n",
    "        kalman_states[var],\n",
    "        data[var],\n",
    "    )\n",
    "    axs[idx].set_xlabel(\"reconstruction\")\n",
    "    axs[idx].set_ylabel(\"truth\")\n",
    "    axs[idx].set_title(var)\n",
    "\n",
    "fig.suptitle(\"CiCMOD | Reconstruction against truth\")\n",
    "save_fig(fig, \"CiCMOD_recons_truth_scatter.png\", dpi=400)"
   ]
  },
  {
   "cell_type": "code",
   "execution_count": null,
   "metadata": {},
   "outputs": [],
   "source": [
    "data_vars = data.data_vars\n",
    "row_col = ncols_nrows_from_N(len(data_vars))\n",
    "\n",
    "fig, axs = plt.subplots(layout=\"constrained\", figsize=(20, 20), **row_col)\n",
    "axs = axs.flatten()\n",
    "\n",
    "for idx, var in enumerate(data_vars):\n",
    "    axs[idx].scatter(\n",
    "        kalman_states.latent,\n",
    "        data[var],\n",
    "        marker=\".\",\n",
    "        alpha=0.75,\n",
    "    )\n",
    "    axs[idx].set_xlabel(var)\n",
    "    axs[idx].set_ylabel(\"variable\")\n",
    "    axs[idx].set_title(var)\n",
    "\n",
    "fig.suptitle(\"CiCMOD | Latent variable against climate indeces\")\n",
    "save_fig(fig, \"CiCMOD_latent_indices_scatter.png\", dpi=400)"
   ]
  },
  {
   "attachments": {},
   "cell_type": "markdown",
   "metadata": {},
   "source": [
    "### Compute lagged cross correlation and covariance  "
   ]
  },
  {
   "cell_type": "code",
   "execution_count": null,
   "metadata": {},
   "outputs": [],
   "source": [
    "lag_years = np.arange(-30, 30, 1)\n",
    "data_vars = data.data_vars\n",
    "da_ccov_list = []\n",
    "da_ccor_list = []\n",
    "for idx, var in enumerate(data_vars):\n",
    "    for lag in lag_years:\n",
    "        # because data is stored in monthly form, we need to multiply the shift by 12 to have teh lag in years\n",
    "        lag_months = lag * 12\n",
    "        # calculate the covariance\n",
    "        ccov = xr.cov(\n",
    "            data[var], kalman_states.latent.shift(time=lag * 12), dim=\"time\"\n",
    "        ).values\n",
    "        da_ccov = xr.DataArray(\n",
    "            data=ccov[np.newaxis],\n",
    "            dims=[\"lag_years\"],\n",
    "            coords=dict(\n",
    "                lag_years=([\"lag_years\"], [lag]),\n",
    "            ),\n",
    "        )\n",
    "        da_ccov = da_ccov.rename(var)\n",
    "        da_ccov_list.append(da_ccov)\n",
    "\n",
    "        # calculate the correlation\n",
    "        ccor = xr.corr(\n",
    "            data[var], kalman_states.latent.shift(time=lag * 12), dim=\"time\"\n",
    "        ).values\n",
    "        da_ccor = xr.DataArray(\n",
    "            data=ccor[np.newaxis],\n",
    "            dims=[\"lag_years\"],\n",
    "            coords=dict(\n",
    "                lag_years=([\"lag_years\"], [lag]),\n",
    "            ),\n",
    "        )\n",
    "        da_ccor = da_ccor.rename(var)\n",
    "        da_ccor_list.append(da_ccor)\n",
    "\n",
    "\n",
    "data_ccov = xr.merge(da_ccov_list)\n",
    "data_ccor = xr.merge(da_ccor_list)"
   ]
  },
  {
   "cell_type": "code",
   "execution_count": null,
   "metadata": {},
   "outputs": [],
   "source": [
    "data_vars = state_variables\n",
    "row_col = ncols_nrows_from_N(len(data_vars))\n",
    "\n",
    "fig, axs = plt.subplots(\n",
    "    layout=\"constrained\",\n",
    "    figsize=(12, 4),\n",
    "    sharex=True,\n",
    "    sharey=True,\n",
    "    ncols=len(data_vars),\n",
    ")\n",
    "axs = axs.flatten()\n",
    "\n",
    "for idx, var in enumerate(data_vars):\n",
    "    axs[idx].step(data_ccor.lag_years, data_ccor[var], label=\"cor\")\n",
    "    axs[idx].set_xlabel(\"lag in years\")\n",
    "    axs[idx].set_ylabel(\"correlation\")\n",
    "    axs[idx].set_title(var)\n",
    "\n",
    "extend = np.max(np.abs(axs[idx].get_ylim()))\n",
    "axs[idx].set_ylim((-extend, extend))\n",
    "\n",
    "fig.suptitle(\"CiCMOD | Lagged correlation of latent variable against state varibales\")\n",
    "save_fig(fig, \"CiCMOD_latent_states_lagged_corr.png\", dpi=400)"
   ]
  },
  {
   "cell_type": "code",
   "execution_count": null,
   "metadata": {},
   "outputs": [],
   "source": [
    "data_vars = data.data_vars\n",
    "row_col = ncols_nrows_from_N(len(data_vars))\n",
    "\n",
    "fig, axs = plt.subplots(\n",
    "    layout=\"constrained\", figsize=(20, 20), sharex=True, sharey=True, **row_col\n",
    ")\n",
    "axs = axs.flatten()\n",
    "\n",
    "for idx, var in enumerate(data_vars):\n",
    "    axs[idx].step(data_ccor.lag_years, data_ccor[var], label=\"cor\")\n",
    "    axs[idx].set_xlabel(\"lag in years\")\n",
    "    axs[idx].set_ylabel(\"correlation\")\n",
    "    axs[idx].set_title(var)\n",
    "\n",
    "extend = np.max(np.abs(axs[idx].get_ylim()))\n",
    "axs[idx].set_ylim((-extend, extend))\n",
    "\n",
    "fig.suptitle(\"CiCMOD | Lagged correlation of latent variable against climate indices\")\n",
    "save_fig(fig, \"CiCMOD_latent_indices_lagged_corr.png\", dpi=400)"
   ]
  },
  {
   "attachments": {},
   "cell_type": "markdown",
   "metadata": {},
   "source": [
    "### Perform frequency analyis on input and ouptut data"
   ]
  },
  {
   "cell_type": "code",
   "execution_count": null,
   "metadata": {},
   "outputs": [],
   "source": []
  },
  {
   "cell_type": "code",
   "execution_count": null,
   "metadata": {},
   "outputs": [],
   "source": [
    "from scipy import fftpack\n",
    "from scipy.ndimage import uniform_filter1d\n",
    "\n",
    "# Number of samplepoints\n",
    "# sample spacing\n",
    "\n",
    "\n",
    "def do_fft(x, y):\n",
    "    dt = x[1] - x[0]\n",
    "    y = y[~np.isnan(y)]\n",
    "\n",
    "    N = len(y)\n",
    "    x = np.arange(0, N, dt)\n",
    "\n",
    "    yf = fftpack.fft(y)\n",
    "    xf = np.linspace(0.0, 1.0 / (2.0 * dt), N // 2)\n",
    "    yf_plot = 2.0 / N * np.abs(yf[: N // 2])\n",
    "    f_min = 1 / N\n",
    "    f_max = 1 / (2 * dt)\n",
    "    return xf, yf, yf_plot, f_min, f_max"
   ]
  },
  {
   "cell_type": "code",
   "execution_count": null,
   "metadata": {},
   "outputs": [
    {
     "name": "stderr",
     "output_type": "stream",
     "text": [
      "C:\\Users\\Niebaum\\AppData\\Local\\Temp\\ipykernel_6708\\3295467293.py:13: RuntimeWarning: divide by zero encountered in divide\n",
      "  ax.set_xticks(ticks=xticks, labels= 1/xticks)\n",
      "C:\\Users\\Niebaum\\AppData\\Local\\Temp\\ipykernel_6708\\3295467293.py:13: RuntimeWarning: overflow encountered in divide\n",
      "  ax.set_xticks(ticks=xticks, labels= 1/xticks)\n",
      "C:\\Users\\Niebaum\\AppData\\Local\\Temp\\ipykernel_6708\\3295467293.py:15: RuntimeWarning: overflow encountered in divide\n",
      "  ax.set_xticks(ticks=x_ticks, labels=1/x_ticks)\n"
     ]
    }
   ],
   "source": [
    "data_vars = state_variables\n",
    "fig, axs = plt.subplots(\n",
    "    layout=\"constrained\",\n",
    "    figsize=(12, 4),\n",
    "    sharex=True,\n",
    "    sharey=True,\n",
    "    ncols=len(data_vars),\n",
    ")\n",
    "axs = axs.flatten()\n",
    "\n",
    "for idx, var in enumerate(data_vars):\n",
    "    ax = axs[idx]\n",
    "    xf, yf, yf_plot, f_min, f_max = do_fft(x=data.time, y=data[var].values)\n",
    "    ax.loglog(xf, yf_plot, label=\"truth\", alpha=0.7)\n",
    "    xf, yf, yf_plot, f_min, f_max = do_fft(\n",
    "        x=kalman_states.time, y=kalman_states[var].values\n",
    "    )\n",
    "    ax.loglog(xf, yf_plot, label=\"reconst.\", alpha=0.7)\n",
    "\n",
    "    xticks = ax.get_xticks().copy()\n",
    "    ax.set_xticks(ticks=xticks, labels=1 / xticks)\n",
    "    x_ticks = ax.get_xticks()[1:]\n",
    "    ax.set_xticks(ticks=x_ticks, labels=1 / x_ticks)\n",
    "\n",
    "    f_min = 1 / 100  #  years^{-1}\n",
    "    ax.set_xlim((f_min, f_max))\n",
    "\n",
    "    ax.set_xlabel(\"Period in years\")\n",
    "    ax.set_ylabel(\"Power in ????\")\n",
    "    ax.set_title(var)\n",
    "    ax.legend()\n",
    "\n",
    "fig.suptitle(\"CiCMOD | Frequency spectrum state varibales\")\n",
    "save_fig(fig, \"CiCMOD_fft_states.png\", dpi=400)"
   ]
  }
 ],
 "metadata": {
  "kernelspec": {
   "display_name": "climNum",
   "language": "python",
   "name": "python3"
  },
  "language_info": {
   "codemirror_mode": {
    "name": "ipython",
    "version": 3
   },
   "file_extension": ".py",
   "mimetype": "text/x-python",
   "name": "python",
   "nbconvert_exporter": "python",
   "pygments_lexer": "ipython3",
   "version": "3.10.9"
  }
 },
 "nbformat": 4,
 "nbformat_minor": 2
}
