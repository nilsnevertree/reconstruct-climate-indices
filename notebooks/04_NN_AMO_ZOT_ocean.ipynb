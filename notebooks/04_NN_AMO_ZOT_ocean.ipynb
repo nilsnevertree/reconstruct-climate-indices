{
 "cells": [
  {
   "cell_type": "code",
   "execution_count": null,
   "metadata": {},
   "outputs": [],
   "source": [
    "from pathlib import Path\n",
    "import numpy as np\n",
    "import pandas as pd\n",
    "import xarray as xr\n",
    "import itertools\n",
    "import matplotlib.pyplot as plt\n",
    "\n",
    "# from kalman_reconstruction.kalman import (\n",
    "#     Kalman_SEM,\n",
    "# )\n",
    "from kalman_reconstruction import pipeline\n",
    "from kalman_reconstruction.custom_plot import (\n",
    "    plot_state_with_probability,\n",
    "    set_custom_rcParams,\n",
    ")\n",
    "from kalman_reconstruction.statistics import (\n",
    "    normalize,\n",
    "    autocorr,\n",
    ")\n",
    "\n",
    "set_custom_rcParams()\n",
    "plt.rcParams[\"figure.figsize\"] = (8, 5)\n",
    "colors = plt.rcParams[\"axes.prop_cycle\"].by_key()[\"color\"]\n",
    "\n",
    "from reconstruct_climate_indices.idealized_ocean import AMO_oscillatory_ocean\n",
    "from reconstruct_climate_indices.track_data import (\n",
    "    track_model,\n",
    "    run_function_on_multiple_datasets,\n",
    ")\n",
    "from tqdm import tqdm"
   ]
  },
  {
   "cell_type": "code",
   "execution_count": null,
   "metadata": {},
   "outputs": [],
   "source": [
    "SUBDATA_PATH = \"AMO_oscillator_V2\"\n",
    "PATH_FIGURES = Path(\"../results/AMO_oscillator_V2\")\n",
    "SAVE_FIGURES = True\n",
    "\n",
    "\n",
    "def save_fig(fig, relative_path, **kwargs):\n",
    "    if SAVE_FIGURES:\n",
    "        fig.savefig(PATH_FIGURES / relative_path, **kwargs)\n",
    "    else:\n",
    "        pass"
   ]
  },
  {
   "cell_type": "code",
   "execution_count": null,
   "metadata": {},
   "outputs": [],
   "source": [
    "def product_dict(**kwargs):\n",
    "    keys = kwargs.keys()\n",
    "    for instance in itertools.product(*kwargs.values()):\n",
    "        yield dict(zip(keys, instance))"
   ]
  },
  {
   "cell_type": "code",
   "execution_count": null,
   "metadata": {},
   "outputs": [
    {
     "name": "stderr",
     "output_type": "stream",
     "text": [
      "100%|██████████| 16/16 [00:04<00:00,  3.65it/s]\n"
     ]
    }
   ],
   "source": [
    "default_settings = dict(\n",
    "    nt=1000,  # timesteps\n",
    "    dt=30,  # days\n",
    "    per0=24 * 365.25,  # days\n",
    "    tau0=10 * 365.25,  # days\n",
    "    dNAO=0.1,\n",
    "    dEAP=0.1,\n",
    "    cNAOvsEAP=0,\n",
    "    save_path=None,\n",
    "    return_settings=True,\n",
    ")\n",
    "setting = default_settings.copy()\n",
    "select_dict = {key: default_settings[key] for key in [\"dNAO\", \"dEAP\", \"cNAOvsEAP\"]}\n",
    "\n",
    "factor = np.array([[0.1], [0.5], [1], [5]])\n",
    "experiment_settings = dict()\n",
    "experiment_settings_flat = dict()\n",
    "for key in [\"dNAO\", \"dEAP\"]:\n",
    "    experiment_settings[key] = default_settings[key] * factor\n",
    "    experiment_settings_flat[key] = default_settings[key] * factor.flatten()\n",
    "\n",
    "\n",
    "data_list = []\n",
    "for s in tqdm(list(product_dict(**experiment_settings_flat))):\n",
    "    setting.update(**s)\n",
    "    data = track_model(\n",
    "        func=AMO_oscillatory_ocean,\n",
    "        mlflow_args=dict(experiment_id=\"286934939241168502\"),\n",
    "        func_kwargs=setting,\n",
    "        subdata_path=SUBDATA_PATH,\n",
    "    )\n",
    "    data_list.append(data)"
   ]
  },
  {
   "cell_type": "code",
   "execution_count": null,
   "metadata": {},
   "outputs": [],
   "source": [
    "experiments = xr.merge(data_list)"
   ]
  },
  {
   "cell_type": "code",
   "execution_count": null,
   "metadata": {},
   "outputs": [
    {
     "name": "stderr",
     "output_type": "stream",
     "text": [
      "4it [00:00,  9.62it/s]\n"
     ]
    }
   ],
   "source": [
    "fig, axs = plt.subplots(\n",
    "    nrows=len(experiments.dNAO), ncols=len(experiments.dEAP), figsize=(15, 15)\n",
    ")\n",
    "for i, dNAO in tqdm(enumerate(experiments.dNAO)):\n",
    "    for j, dEAP in enumerate(experiments.dEAP):\n",
    "        axs[i, j].plot(\n",
    "            experiments.time_years,\n",
    "            experiments[\"AMO\"].sel(dNAO=dNAO, dEAP=dEAP),\n",
    "            label=\"AMO\",\n",
    "        )\n",
    "        axs[i, j].plot(\n",
    "            experiments.time_years,\n",
    "            experiments[\"ZOT\"].sel(dNAO=dNAO, dEAP=dEAP),\n",
    "            label=\"ZOT\",\n",
    "        )\n",
    "        axs[i, j].set_title(f\"dNAO: {dNAO:.2f}, dEAP: {dEAP:.2f}\")\n",
    "        axs[i, j].set_ylabel(\"value\")\n",
    "        axs[i, j].set_xlabel(\"years\")\n",
    "        axs[i, j].legend()\n",
    "\n",
    "fig.suptitle(\"Variation of dNAO and dEAP\")\n",
    "fig.tight_layout()"
   ]
  },
  {
   "cell_type": "code",
   "execution_count": null,
   "metadata": {},
   "outputs": [],
   "source": [
    "data_standard = pipeline.to_standard_dataset(data)"
   ]
  },
  {
   "cell_type": "code",
   "execution_count": null,
   "metadata": {},
   "outputs": [],
   "source": [
    "fig, axs = plt.subplots(nrows=2, ncols=2)\n",
    "axs_flat = axs.flatten()\n",
    "for idx, var in enumerate([\"NAO\", \"EAP\", \"ZOT\", \"AMO\"]):\n",
    "    data[var].plot(ax=axs_flat[idx], x=\"time_years\")\n",
    "    axs_flat[idx].set_title(var)\n",
    "    axs_flat[idx].set_xlabel(\"Time in years\")\n",
    "    axs_flat[idx].set_ylabel(\"Value\")\n",
    "\n",
    "fig.tight_layout()\n",
    "save_fig(fig, \"Evolution.png\", dpi=400)"
   ]
  },
  {
   "attachments": {},
   "cell_type": "markdown",
   "metadata": {},
   "source": [
    "Code to run the Kalman Itteration for all experiments"
   ]
  },
  {
   "cell_type": "code",
   "execution_count": null,
   "metadata": {},
   "outputs": [],
   "source": [
    "seed = 39264\n",
    "variance = 5\n",
    "nb_iter_SEM = 50\n",
    "forcast_duration = 0.5\n",
    "\n",
    "rng1 = np.random.default_rng(seed=seed)\n",
    "rng2 = np.random.default_rng(seed=seed + 1)\n",
    "rng3 = np.random.default_rng(seed=seed + 2)\n",
    "rng4 = np.random.default_rng(seed=seed + 3)"
   ]
  },
  {
   "attachments": {},
   "cell_type": "markdown",
   "metadata": {},
   "source": [
    "Create Dataset for kalman_results"
   ]
  },
  {
   "cell_type": "code",
   "execution_count": null,
   "metadata": {},
   "outputs": [
    {
     "name": "stderr",
     "output_type": "stream",
     "text": [
      "100%|██████████| 50/50 [00:22<00:00,  2.25it/s]\n"
     ]
    }
   ],
   "source": [
    "observation_variables = [\"ZOT\", \"NAO\", \"EAP\"]\n",
    "state_variables = [\"ZOT\", \"NAO\", \"EAP\", \"latent\"]\n",
    "data_1_latent = data.copy()\n",
    "pipeline.add_random_variable(\n",
    "    ds=data_1_latent, var_name=\"latent\", random_generator=rng3, variance=1\n",
    ")\n",
    "kalman_result = pipeline.xarray_Kalman_SEM(\n",
    "    ds=data_1_latent,\n",
    "    observation_variables=observation_variables,\n",
    "    state_variables=state_variables,\n",
    "    nb_iter_SEM=nb_iter_SEM,\n",
    ")"
   ]
  },
  {
   "cell_type": "code",
   "execution_count": null,
   "metadata": {},
   "outputs": [],
   "source": [
    "kalman_states = pipeline.from_standard_dataset(\n",
    "    kalman_result, var_name=\"states\", prefix=\"kalman_\"\n",
    ")"
   ]
  },
  {
   "cell_type": "code",
   "execution_count": null,
   "metadata": {},
   "outputs": [
    {
     "data": {
      "text/plain": [
       "[<matplotlib.lines.Line2D at 0x203099a37c0>]"
      ]
     },
     "execution_count": null,
     "metadata": {},
     "output_type": "execute_result"
    }
   ],
   "source": [
    "kalman_result.log_likelihod.plot()"
   ]
  },
  {
   "cell_type": "code",
   "execution_count": null,
   "metadata": {},
   "outputs": [
    {
     "data": {
      "text/plain": [
       "<matplotlib.legend.Legend at 0x203091a32e0>"
      ]
     },
     "execution_count": null,
     "metadata": {},
     "output_type": "execute_result"
    }
   ],
   "source": [
    "for state in observation_variables:\n",
    "    plt.scatter(\n",
    "        normalize(kalman_result.states.sel(state_name=state)),\n",
    "        normalize(data[state].values.flatten()),\n",
    "        alpha=0.5,\n",
    "        label=state,\n",
    "    )\n",
    "\n",
    "plt.plot([0, 1], [0, 1], color=\"k\")\n",
    "plt.legend()"
   ]
  },
  {
   "cell_type": "code",
   "execution_count": null,
   "metadata": {},
   "outputs": [
    {
     "data": {
      "text/plain": [
       "<matplotlib.legend.Legend at 0x2030a7539d0>"
      ]
     },
     "execution_count": null,
     "metadata": {},
     "output_type": "execute_result"
    }
   ],
   "source": [
    "for state in data_standard.state_name.values:\n",
    "    corr = xr.corr(\n",
    "        normalize(kalman_result.states.sel(state_name=\"latent\")), normalize(data[state])\n",
    "    )\n",
    "    plt.scatter(\n",
    "        normalize(kalman_result.states.sel(state_name=\"latent\")),\n",
    "        normalize(data[state].values.flatten()),\n",
    "        alpha=0.5,\n",
    "        label=f\"{state} : {corr:.2f}\",\n",
    "    )\n",
    "\n",
    "\n",
    "plt.plot([-1, 1], [-1, 1], color=\"k\")\n",
    "plt.legend()"
   ]
  },
  {
   "cell_type": "code",
   "execution_count": null,
   "metadata": {},
   "outputs": [
    {
     "data": {
      "text/plain": [
       "<matplotlib.legend.Legend at 0x2030a402470>"
      ]
     },
     "execution_count": null,
     "metadata": {},
     "output_type": "execute_result"
    }
   ],
   "source": [
    "fig, ax = plt.subplots(1, 1)\n",
    "for state in kalman_result.state_name:\n",
    "    plot_state_with_probability(\n",
    "        ax=ax,\n",
    "        x_value=kalman_result.time_years,\n",
    "        state=kalman_result.states.sel(state_name=state),\n",
    "        prob=kalman_result.covariance.sel(state_name=state, state_name_copy=state),\n",
    "        line_kwargs=dict(label=state.values),\n",
    "        output=False,\n",
    "    )\n",
    "ax.legend()"
   ]
  },
  {
   "cell_type": "code",
   "execution_count": null,
   "metadata": {},
   "outputs": [],
   "source": [
    "def adjust_lightness(color, amount=0.5):\n",
    "    import matplotlib.colors as mc\n",
    "    import colorsys\n",
    "\n",
    "    try:\n",
    "        c = mc.cnames[color]\n",
    "    except:\n",
    "        c = color\n",
    "    c = colorsys.rgb_to_hls(*mc.to_rgb(c))\n",
    "    return colorsys.hls_to_rgb(c[0], max(0, min(1, amount * c[1])), c[2])"
   ]
  },
  {
   "cell_type": "code",
   "execution_count": null,
   "metadata": {},
   "outputs": [],
   "source": [
    "fig, ax = plt.subplots(1, 1)\n",
    "for idx, state in enumerate([\"AMO\", \"ZOT\"]):\n",
    "    color = colors[idx]\n",
    "    dark_color = adjust_lightness(color)\n",
    "    if state in kalman_result.state_name:\n",
    "        plot_state_with_probability(\n",
    "            ax=ax,\n",
    "            x_value=kalman_result.time_years,\n",
    "            state=kalman_result.states.sel(state_name=state),\n",
    "            prob=kalman_result.covariance.sel(state_name=state, state_name_copy=state),\n",
    "            line_kwargs=dict(color=color, label=f\"{state}\"),\n",
    "        )\n",
    "    else:\n",
    "        pass\n",
    "\n",
    "    data[state].plot(ax=ax, x=\"time_years\", label=f\"{state} truth\", color=dark_color)\n",
    "\n",
    "color = colors[idx + 1]\n",
    "plot_state_with_probability(\n",
    "    ax=ax,\n",
    "    x_value=kalman_result.time_years,\n",
    "    state=kalman_result.states.sel(state_name=\"latent\"),\n",
    "    prob=kalman_result.covariance.sel(state_name=\"latent\", state_name_copy=\"latent\"),\n",
    "    line_kwargs=dict(label=f\"latent\", color=color),\n",
    ")\n",
    "\n",
    "ax.legend()\n",
    "ax.set_ylabel(\"Value\")\n",
    "ax.set_xlabel(\"Time in years\")\n",
    "ax.set_title(\"Deterministic variables shading as 95% CI\")\n",
    "save_fig(fig, \"deterministic_variables.png\", dpi=400)\n",
    "save_fig(fig, \"deterministic_variables.svg\")"
   ]
  },
  {
   "cell_type": "code",
   "execution_count": null,
   "metadata": {},
   "outputs": [],
   "source": [
    "def norm(self):\n",
    "    # minmax\n",
    "    return (self - self.min()) / (self.max() - self.min())\n",
    "    # mean std\n",
    "    # return (self-self.mean())/self.std(ddof=ddof)"
   ]
  },
  {
   "cell_type": "code",
   "execution_count": null,
   "metadata": {},
   "outputs": [],
   "source": [
    "time_slice = slice(0, 3000)\n",
    "fig, ax = plt.subplots(1, 1)\n",
    "for state in [\"NAO\", \"EAP\"]:\n",
    "    if state in kalman_result.state_name:\n",
    "        plot_state_with_probability(\n",
    "            ax=ax,\n",
    "            x_value=kalman_result.time_years.isel(time=time_slice),\n",
    "            state=kalman_result.states.sel(state_name=state).isel(time=time_slice),\n",
    "            prob=kalman_result.covariance.sel(\n",
    "                state_name=state, state_name_copy=state\n",
    "            ).isel(time=time_slice),\n",
    "            line_kwargs=dict(label=f\"{state}\"),\n",
    "        )\n",
    "        data[state].isel(time=time_slice).plot(\n",
    "            ax=ax, x=\"time_years\", label=f\"{state} truth\", linestyle=\":\", color=\"grey\"\n",
    "        )\n",
    "    else:\n",
    "        print(f\"{state} not it results\")\n",
    "\n",
    "ax.legend()\n",
    "ax.set_ylabel(\"Value\")\n",
    "ax.set_xlabel(\"Time in years\")\n",
    "ax.set_title(\"Stochastic variables shading as 95% CI\")\n",
    "save_fig(fig, \"stochastic_variables.png\", dpi=400)"
   ]
  },
  {
   "cell_type": "code",
   "execution_count": null,
   "metadata": {},
   "outputs": [],
   "source": [
    "def vars_to_dataframe(ds):\n",
    "    states = [var for var in ds.data_vars.keys()]\n",
    "    drop_vars = [var for var in ds.coords.keys() if var not in states + [\"time\"]]\n",
    "    return ds.drop(drop_vars).to_dataframe()\n",
    "\n",
    "\n",
    "data_all = xr.merge([data_restored.sel(select_dict), kalman_states])\n",
    "data_all = normalize(data_all)\n",
    "df_all = vars_to_dataframe(data_all.isel(time=slice(0, 100)))\n",
    "\n",
    "g = sns.PairGrid(df_all)\n",
    "g.map_diag(sns.histplot, kde=True, bins=20)\n",
    "g.map_upper(sns.histplot)\n",
    "g.map_lower(sns.kdeplot, fill=False)\n",
    "save_fig(g, \"CorrelationMap.png\", dpi=400)"
   ]
  }
 ],
 "metadata": {
  "kernelspec": {
   "display_name": "climNum",
   "language": "python",
   "name": "python3"
  },
  "language_info": {
   "codemirror_mode": {
    "name": "ipython",
    "version": 3
   },
   "file_extension": ".py",
   "mimetype": "text/x-python",
   "name": "python",
   "nbconvert_exporter": "python",
   "pygments_lexer": "ipython3",
   "version": "3.10.9"
  }
 },
 "nbformat": 4,
 "nbformat_minor": 2
}
